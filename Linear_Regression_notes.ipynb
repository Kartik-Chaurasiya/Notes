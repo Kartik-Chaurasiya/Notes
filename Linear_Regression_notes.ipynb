{
  "nbformat": 4,
  "nbformat_minor": 0,
  "metadata": {
    "colab": {
      "name": "Linear_Regression_notes.ipynb",
      "provenance": [],
      "collapsed_sections": [
        "w17fSKKRGfLF",
        "OsvvffRiCPXv",
        "DKp1LLACvEAV",
        "mS214OR2Epvj"
      ],
      "authorship_tag": "ABX9TyNjkDCEexEIMBRcBIaZPwnV",
      "include_colab_link": true
    },
    "kernelspec": {
      "name": "python3",
      "display_name": "Python 3"
    },
    "language_info": {
      "name": "python"
    }
  },
  "cells": [
    {
      "cell_type": "markdown",
      "metadata": {
        "id": "view-in-github",
        "colab_type": "text"
      },
      "source": [
        "<a href=\"https://colab.research.google.com/github/Syntax-code/Notes/blob/main/Linear_Regression_notes.ipynb\" target=\"_parent\"><img src=\"https://colab.research.google.com/assets/colab-badge.svg\" alt=\"Open In Colab\"/></a>"
      ]
    },
    {
      "cell_type": "code",
      "metadata": {
        "colab": {
          "base_uri": "https://localhost:8080/"
        },
        "id": "KDTfiAXiuyhy",
        "outputId": "f2a59f40-c9c8-4c77-98e1-039d7189522d"
      },
      "source": [
        "from google.colab import drive\n",
        "drive.mount('/gdrive')\n",
        "%cd /gdrive"
      ],
      "execution_count": null,
      "outputs": [
        {
          "output_type": "stream",
          "text": [
            "Mounted at /gdrive\n",
            "/gdrive\n"
          ],
          "name": "stdout"
        }
      ]
    },
    {
      "cell_type": "code",
      "metadata": {
        "id": "UAcit9hvAo6N"
      },
      "source": [
        "import numpy as np\n",
        "import pandas as pd\n",
        "import matplotlib.pyplot as plt\n",
        "import statsmodels.api as sm\n",
        "from sklearn import linear_model, metrics\n",
        "from sklearn.model_selection import train_test_split\n",
        "from sklearn.preprocessing import StandardScaler\n",
        "import seaborn as sns\n",
        "import random"
      ],
      "execution_count": null,
      "outputs": []
    },
    {
      "cell_type": "markdown",
      "metadata": {
        "id": "w17fSKKRGfLF"
      },
      "source": [
        "#Simple linear regression"
      ]
    },
    {
      "cell_type": "code",
      "metadata": {
        "id": "lIBfPNdoA5D2"
      },
      "source": [
        "data = pd.read_csv('1.01.+Simple+linear+regression.csv')\n",
        "data.head()"
      ],
      "execution_count": null,
      "outputs": []
    },
    {
      "cell_type": "code",
      "metadata": {
        "id": "Sb3jwybPCxMr"
      },
      "source": [
        "x_train, x_test, y_train, y_test = train_test_split(data.SAT, data.GPA, test_size = 0.2)"
      ],
      "execution_count": null,
      "outputs": []
    },
    {
      "cell_type": "code",
      "metadata": {
        "id": "O8AZi5BLyHXR"
      },
      "source": [
        "x_train = x_train.values.reshape(-1,1)\n",
        "x_test = x_test.values.reshape(-1,1)\n",
        "y_train = y_train.values.reshape(-1,1)\n",
        "y_test = y_test.values.reshape(-1,1)"
      ],
      "execution_count": null,
      "outputs": []
    },
    {
      "cell_type": "code",
      "metadata": {
        "colab": {
          "base_uri": "https://localhost:8080/"
        },
        "id": "-3PnJqyhz0bb",
        "outputId": "807357f2-d543-4510-886c-bbdea8cb926b"
      },
      "source": [
        "cls = linear_model.LinearRegression()\n",
        "cls.fit(x_train, y_train)"
      ],
      "execution_count": null,
      "outputs": [
        {
          "output_type": "execute_result",
          "data": {
            "text/plain": [
              "LinearRegression(copy_X=True, fit_intercept=True, n_jobs=None, normalize=False)"
            ]
          },
          "metadata": {
            "tags": []
          },
          "execution_count": 6
        }
      ]
    },
    {
      "cell_type": "code",
      "metadata": {
        "id": "aXq52bGb0X3n"
      },
      "source": [
        "y_pred = cls.predict(x_test)"
      ],
      "execution_count": null,
      "outputs": []
    },
    {
      "cell_type": "code",
      "metadata": {
        "colab": {
          "base_uri": "https://localhost:8080/"
        },
        "id": "AvK4zh-j0mV8",
        "outputId": "91048a4c-7386-4edd-d24b-65fb32bb91e9"
      },
      "source": [
        "square_error = metrics.mean_squared_error(y_test, y_pred)\n",
        "square_error"
      ],
      "execution_count": null,
      "outputs": [
        {
          "output_type": "execute_result",
          "data": {
            "text/plain": [
              "0.06996289073535665"
            ]
          },
          "metadata": {
            "tags": []
          },
          "execution_count": 8
        }
      ]
    },
    {
      "cell_type": "code",
      "metadata": {
        "colab": {
          "base_uri": "https://localhost:8080/"
        },
        "id": "CzyVhWAL06PM",
        "outputId": "1290b39a-b420-4078-ada0-8483093583d3"
      },
      "source": [
        "r2 = metrics.r2_score(y_test, y_pred)\n",
        "r2"
      ],
      "execution_count": null,
      "outputs": [
        {
          "output_type": "execute_result",
          "data": {
            "text/plain": [
              "0.28195025951154984"
            ]
          },
          "metadata": {
            "tags": []
          },
          "execution_count": 9
        }
      ]
    },
    {
      "cell_type": "code",
      "metadata": {
        "colab": {
          "base_uri": "https://localhost:8080/",
          "height": 297
        },
        "id": "CHX5Bmla1JQj",
        "outputId": "71346e24-c291-46d8-e70e-65d91b557c3c"
      },
      "source": [
        "#Model Regression line on test set\n",
        "plt.scatter(x_test, y_test)\n",
        "plt.plot(x_test, y_pred, color='red', linewidth=3)\n",
        "plt.title('Linear Regression')"
      ],
      "execution_count": null,
      "outputs": [
        {
          "output_type": "execute_result",
          "data": {
            "text/plain": [
              "Text(0.5, 1.0, 'Linear Regression')"
            ]
          },
          "metadata": {
            "tags": []
          },
          "execution_count": 10
        },
        {
          "output_type": "display_data",
          "data": {
            "image/png": "[encoded data removed]",
            "text/plain": [
              "<Figure size 432x288 with 1 Axes>"
            ]
          },
          "metadata": {
            "tags": [],
            "needs_background": "light"
          }
        }
      ]
    },
    {
      "cell_type": "code",
      "metadata": {
        "id": "DEEYpW8ilkwa"
      },
      "source": [
        "y = data['GPA']\n",
        "x1 = data['SAT']"
      ],
      "execution_count": null,
      "outputs": []
    },
    {
      "cell_type": "code",
      "metadata": {
        "colab": {
          "base_uri": "https://localhost:8080/",
          "height": 461
        },
        "id": "NBeNkMNClzrv",
        "outputId": "a8e53c72-035f-405e-ead2-aab47312faf4"
      },
      "source": [
        "x = sm.add_constant(x1)\n",
        "results = sm.OLS(y,x).fit()\n",
        "results.summary()"
      ],
      "execution_count": null,
      "outputs": [
        {
          "output_type": "execute_result",
          "data": {
            "text/html": [
              "<table class=\"simpletable\">\n",
              "<caption>OLS Regression Results</caption>\n",
              "<tr>\n",
              "  <th>Dep. Variable:</th>           <td>GPA</td>       <th>  R-squared:         </th> <td>   0.406</td>\n",
              "</tr>\n",
              "<tr>\n",
              "  <th>Model:</th>                   <td>OLS</td>       <th>  Adj. R-squared:    </th> <td>   0.399</td>\n",
              "</tr>\n",
              "<tr>\n",
              "  <th>Method:</th>             <td>Least Squares</td>  <th>  F-statistic:       </th> <td>   56.05</td>\n",
              "</tr>\n",
              "<tr>\n",
              "  <th>Date:</th>             <td>Thu, 12 Aug 2021</td> <th>  Prob (F-statistic):</th> <td>7.20e-11</td>\n",
              "</tr>\n",
              "<tr>\n",
              "  <th>Time:</th>                 <td>17:19:01</td>     <th>  Log-Likelihood:    </th> <td>  12.672</td>\n",
              "</tr>\n",
              "<tr>\n",
              "  <th>No. Observations:</th>      <td>    84</td>      <th>  AIC:               </th> <td>  -21.34</td>\n",
              "</tr>\n",
              "<tr>\n",
              "  <th>Df Residuals:</th>          <td>    82</td>      <th>  BIC:               </th> <td>  -16.48</td>\n",
              "</tr>\n",
              "<tr>\n",
              "  <th>Df Model:</th>              <td>     1</td>      <th>                     </th>     <td> </td>   \n",
              "</tr>\n",
              "<tr>\n",
              "  <th>Covariance Type:</th>      <td>nonrobust</td>    <th>                     </th>     <td> </td>   \n",
              "</tr>\n",
              "</table>\n",
              "<table class=\"simpletable\">\n",
              "<tr>\n",
              "    <td></td>       <th>coef</th>     <th>std err</th>      <th>t</th>      <th>P>|t|</th>  <th>[0.025</th>    <th>0.975]</th>  \n",
              "</tr>\n",
              "<tr>\n",
              "  <th>const</th> <td>    0.2750</td> <td>    0.409</td> <td>    0.673</td> <td> 0.503</td> <td>   -0.538</td> <td>    1.088</td>\n",
              "</tr>\n",
              "<tr>\n",
              "  <th>SAT</th>   <td>    0.0017</td> <td>    0.000</td> <td>    7.487</td> <td> 0.000</td> <td>    0.001</td> <td>    0.002</td>\n",
              "</tr>\n",
              "</table>\n",
              "<table class=\"simpletable\">\n",
              "<tr>\n",
              "  <th>Omnibus:</th>       <td>12.839</td> <th>  Durbin-Watson:     </th> <td>   0.950</td>\n",
              "</tr>\n",
              "<tr>\n",
              "  <th>Prob(Omnibus):</th> <td> 0.002</td> <th>  Jarque-Bera (JB):  </th> <td>  16.155</td>\n",
              "</tr>\n",
              "<tr>\n",
              "  <th>Skew:</th>          <td>-0.722</td> <th>  Prob(JB):          </th> <td>0.000310</td>\n",
              "</tr>\n",
              "<tr>\n",
              "  <th>Kurtosis:</th>      <td> 4.590</td> <th>  Cond. No.          </th> <td>3.29e+04</td>\n",
              "</tr>\n",
              "</table><br/><br/>Warnings:<br/>[1] Standard Errors assume that the covariance matrix of the errors is correctly specified.<br/>[2] The condition number is large, 3.29e+04. This might indicate that there are<br/>strong multicollinearity or other numerical problems."
            ],
            "text/plain": [
              "<class 'statsmodels.iolib.summary.Summary'>\n",
              "\"\"\"\n",
              "                            OLS Regression Results                            \n",
              "==============================================================================\n",
              "Dep. Variable:                    GPA   R-squared:                       0.406\n",
              "Model:                            OLS   Adj. R-squared:                  0.399\n",
              "Method:                 Least Squares   F-statistic:                     56.05\n",
              "Date:                Thu, 12 Aug 2021   Prob (F-statistic):           7.20e-11\n",
              "Time:                        17:19:01   Log-Likelihood:                 12.672\n",
              "No. Observations:                  84   AIC:                            -21.34\n",
              "Df Residuals:                      82   BIC:                            -16.48\n",
              "Df Model:                           1                                         \n",
              "Covariance Type:            nonrobust                                         \n",
              "==============================================================================\n",
              "                 coef    std err          t      P>|t|      [0.025      0.975]\n",
              "------------------------------------------------------------------------------\n",
              "const          0.2750      0.409      0.673      0.503      -0.538       1.088\n",
              "SAT            0.0017      0.000      7.487      0.000       0.001       0.002\n",
              "==============================================================================\n",
              "Omnibus:                       12.839   Durbin-Watson:                   0.950\n",
              "Prob(Omnibus):                  0.002   Jarque-Bera (JB):               16.155\n",
              "Skew:                          -0.722   Prob(JB):                     0.000310\n",
              "Kurtosis:                       4.590   Cond. No.                     3.29e+04\n",
              "==============================================================================\n",
              "\n",
              "Warnings:\n",
              "[1] Standard Errors assume that the covariance matrix of the errors is correctly specified.\n",
              "[2] The condition number is large, 3.29e+04. This might indicate that there are\n",
              "strong multicollinearity or other numerical problems.\n",
              "\"\"\""
            ]
          },
          "metadata": {
            "tags": []
          },
          "execution_count": 12
        }
      ]
    },
    {
      "cell_type": "markdown",
      "metadata": {
        "id": "OsvvffRiCPXv"
      },
      "source": [
        "#Multiple regression"
      ]
    },
    {
      "cell_type": "code",
      "metadata": {
        "id": "sQ2hRZGCbFVn",
        "colab": {
          "base_uri": "https://localhost:8080/",
          "height": 202
        },
        "outputId": "eccfe440-b789-46e2-eab4-190efe0d9cad"
      },
      "source": [
        "data = pd.read_csv('1.02.+Multiple+linear+regression.csv')\n",
        "data.head()"
      ],
      "execution_count": null,
      "outputs": [
        {
          "output_type": "execute_result",
          "data": {
            "text/html": [
              "<div>\n",
              "<style scoped>\n",
              "    .dataframe tbody tr th:only-of-type {\n",
              "        vertical-align: middle;\n",
              "    }\n",
              "\n",
              "    .dataframe tbody tr th {\n",
              "        vertical-align: top;\n",
              "    }\n",
              "\n",
              "    .dataframe thead th {\n",
              "        text-align: right;\n",
              "    }\n",
              "</style>\n",
              "<table border=\"1\" class=\"dataframe\">\n",
              "  <thead>\n",
              "    <tr style=\"text-align: right;\">\n",
              "      <th></th>\n",
              "      <th>SAT</th>\n",
              "      <th>Rand 1,2,3</th>\n",
              "      <th>GPA</th>\n",
              "    </tr>\n",
              "  </thead>\n",
              "  <tbody>\n",
              "    <tr>\n",
              "      <th>0</th>\n",
              "      <td>1714</td>\n",
              "      <td>1</td>\n",
              "      <td>2.40</td>\n",
              "    </tr>\n",
              "    <tr>\n",
              "      <th>1</th>\n",
              "      <td>1664</td>\n",
              "      <td>3</td>\n",
              "      <td>2.52</td>\n",
              "    </tr>\n",
              "    <tr>\n",
              "      <th>2</th>\n",
              "      <td>1760</td>\n",
              "      <td>3</td>\n",
              "      <td>2.54</td>\n",
              "    </tr>\n",
              "    <tr>\n",
              "      <th>3</th>\n",
              "      <td>1685</td>\n",
              "      <td>3</td>\n",
              "      <td>2.74</td>\n",
              "    </tr>\n",
              "    <tr>\n",
              "      <th>4</th>\n",
              "      <td>1693</td>\n",
              "      <td>2</td>\n",
              "      <td>2.83</td>\n",
              "    </tr>\n",
              "  </tbody>\n",
              "</table>\n",
              "</div>"
            ],
            "text/plain": [
              "    SAT  Rand 1,2,3   GPA\n",
              "0  1714           1  2.40\n",
              "1  1664           3  2.52\n",
              "2  1760           3  2.54\n",
              "3  1685           3  2.74\n",
              "4  1693           2  2.83"
            ]
          },
          "metadata": {
            "tags": []
          },
          "execution_count": 5
        }
      ]
    },
    {
      "cell_type": "code",
      "metadata": {
        "colab": {
          "base_uri": "https://localhost:8080/",
          "height": 294
        },
        "id": "k7L7-W8JC77y",
        "outputId": "556925c9-764f-4087-ad06-669d0f3265c3"
      },
      "source": [
        "data.describe()"
      ],
      "execution_count": null,
      "outputs": [
        {
          "output_type": "execute_result",
          "data": {
            "text/html": [
              "<div>\n",
              "<style scoped>\n",
              "    .dataframe tbody tr th:only-of-type {\n",
              "        vertical-align: middle;\n",
              "    }\n",
              "\n",
              "    .dataframe tbody tr th {\n",
              "        vertical-align: top;\n",
              "    }\n",
              "\n",
              "    .dataframe thead th {\n",
              "        text-align: right;\n",
              "    }\n",
              "</style>\n",
              "<table border=\"1\" class=\"dataframe\">\n",
              "  <thead>\n",
              "    <tr style=\"text-align: right;\">\n",
              "      <th></th>\n",
              "      <th>SAT</th>\n",
              "      <th>Rand 1,2,3</th>\n",
              "      <th>GPA</th>\n",
              "    </tr>\n",
              "  </thead>\n",
              "  <tbody>\n",
              "    <tr>\n",
              "      <th>count</th>\n",
              "      <td>84.000000</td>\n",
              "      <td>84.000000</td>\n",
              "      <td>84.000000</td>\n",
              "    </tr>\n",
              "    <tr>\n",
              "      <th>mean</th>\n",
              "      <td>1845.273810</td>\n",
              "      <td>2.059524</td>\n",
              "      <td>3.330238</td>\n",
              "    </tr>\n",
              "    <tr>\n",
              "      <th>std</th>\n",
              "      <td>104.530661</td>\n",
              "      <td>0.855192</td>\n",
              "      <td>0.271617</td>\n",
              "    </tr>\n",
              "    <tr>\n",
              "      <th>min</th>\n",
              "      <td>1634.000000</td>\n",
              "      <td>1.000000</td>\n",
              "      <td>2.400000</td>\n",
              "    </tr>\n",
              "    <tr>\n",
              "      <th>25%</th>\n",
              "      <td>1772.000000</td>\n",
              "      <td>1.000000</td>\n",
              "      <td>3.190000</td>\n",
              "    </tr>\n",
              "    <tr>\n",
              "      <th>50%</th>\n",
              "      <td>1846.000000</td>\n",
              "      <td>2.000000</td>\n",
              "      <td>3.380000</td>\n",
              "    </tr>\n",
              "    <tr>\n",
              "      <th>75%</th>\n",
              "      <td>1934.000000</td>\n",
              "      <td>3.000000</td>\n",
              "      <td>3.502500</td>\n",
              "    </tr>\n",
              "    <tr>\n",
              "      <th>max</th>\n",
              "      <td>2050.000000</td>\n",
              "      <td>3.000000</td>\n",
              "      <td>3.810000</td>\n",
              "    </tr>\n",
              "  </tbody>\n",
              "</table>\n",
              "</div>"
            ],
            "text/plain": [
              "               SAT  Rand 1,2,3        GPA\n",
              "count    84.000000   84.000000  84.000000\n",
              "mean   1845.273810    2.059524   3.330238\n",
              "std     104.530661    0.855192   0.271617\n",
              "min    1634.000000    1.000000   2.400000\n",
              "25%    1772.000000    1.000000   3.190000\n",
              "50%    1846.000000    2.000000   3.380000\n",
              "75%    1934.000000    3.000000   3.502500\n",
              "max    2050.000000    3.000000   3.810000"
            ]
          },
          "metadata": {
            "tags": []
          },
          "execution_count": 24
        }
      ]
    },
    {
      "cell_type": "code",
      "metadata": {
        "colab": {
          "base_uri": "https://localhost:8080/"
        },
        "id": "u9ZzsSYcC-L7",
        "outputId": "55c20eb6-2c60-42a7-aec3-502f062f46af"
      },
      "source": [
        "data.shape"
      ],
      "execution_count": null,
      "outputs": [
        {
          "output_type": "execute_result",
          "data": {
            "text/plain": [
              "(84, 3)"
            ]
          },
          "metadata": {
            "tags": []
          },
          "execution_count": 4
        }
      ]
    },
    {
      "cell_type": "code",
      "metadata": {
        "id": "27i9pFLbDAY8"
      },
      "source": [
        "x = data[['SAT', 'Rand 1,2,3']]\n",
        "y = data['GPA']"
      ],
      "execution_count": null,
      "outputs": []
    },
    {
      "cell_type": "code",
      "metadata": {
        "id": "c2X_w5ylEGSz"
      },
      "source": [
        "x_train, x_test, y_train, y_test = train_test_split(x, y, test_size=0.2)"
      ],
      "execution_count": null,
      "outputs": []
    },
    {
      "cell_type": "code",
      "metadata": {
        "colab": {
          "base_uri": "https://localhost:8080/"
        },
        "id": "wICuhfK_DNhC",
        "outputId": "57f917f8-ff35-4161-8f80-786f21dd7883"
      },
      "source": [
        "reg = linear_model.LinearRegression()\n",
        "reg.fit(x_train, y_train)"
      ],
      "execution_count": null,
      "outputs": [
        {
          "output_type": "execute_result",
          "data": {
            "text/plain": [
              "LinearRegression(copy_X=True, fit_intercept=True, n_jobs=None, normalize=False)"
            ]
          },
          "metadata": {
            "tags": []
          },
          "execution_count": 14
        }
      ]
    },
    {
      "cell_type": "code",
      "metadata": {
        "id": "fPKCwZ26EX4P"
      },
      "source": [
        "y_pred = reg.predict(x_test)"
      ],
      "execution_count": null,
      "outputs": []
    },
    {
      "cell_type": "code",
      "metadata": {
        "colab": {
          "base_uri": "https://localhost:8080/"
        },
        "id": "LnECbJIXDUDT",
        "outputId": "e837fbc9-2776-4546-8352-5b4f9806a0d5"
      },
      "source": [
        "reg.coef_"
      ],
      "execution_count": null,
      "outputs": [
        {
          "output_type": "execute_result",
          "data": {
            "text/plain": [
              "array([ 0.00165354, -0.00826982])"
            ]
          },
          "metadata": {
            "tags": []
          },
          "execution_count": 12
        }
      ]
    },
    {
      "cell_type": "code",
      "metadata": {
        "colab": {
          "base_uri": "https://localhost:8080/"
        },
        "id": "9knc4maeD8ri",
        "outputId": "d4af4af9-df30-4be2-e1d2-a8b65695baa5"
      },
      "source": [
        "reg.intercept_"
      ],
      "execution_count": null,
      "outputs": [
        {
          "output_type": "execute_result",
          "data": {
            "text/plain": [
              "0.29603261264909486"
            ]
          },
          "metadata": {
            "tags": []
          },
          "execution_count": 13
        }
      ]
    },
    {
      "cell_type": "code",
      "metadata": {
        "id": "Efl6fSnmEqzk"
      },
      "source": [
        "r2 = reg.score(x,y)"
      ],
      "execution_count": null,
      "outputs": []
    },
    {
      "cell_type": "markdown",
      "metadata": {
        "id": "H5hE9XXrFCvk"
      },
      "source": [
        "Adjusted $R^2$\n",
        "\n",
        "$R^2_{adj.} = 1 - (1-R^2)*\\frac{n-1}{n-p-1}$"
      ]
    },
    {
      "cell_type": "code",
      "metadata": {
        "colab": {
          "base_uri": "https://localhost:8080/"
        },
        "id": "si_G-j0qEBGL",
        "outputId": "7bab3f04-51c0-4244-fee3-e5674c3f3628"
      },
      "source": [
        "n = x.shape[0]\n",
        "p = x.shape[1]\n",
        "adj_r2 = 1 - (1 - r2)*(n - 1)/(n - p - 1)\n",
        "adj_r2"
      ],
      "execution_count": null,
      "outputs": [
        {
          "output_type": "execute_result",
          "data": {
            "text/plain": [
              "0.3869278532993633"
            ]
          },
          "metadata": {
            "tags": []
          },
          "execution_count": 20
        }
      ]
    },
    {
      "cell_type": "markdown",
      "metadata": {
        "id": "DKp1LLACvEAV"
      },
      "source": [
        "#Feature Selection"
      ]
    },
    {
      "cell_type": "code",
      "metadata": {
        "id": "8sdrHXucF4P1"
      },
      "source": [
        "from sklearn.feature_selection import f_regression"
      ],
      "execution_count": null,
      "outputs": []
    },
    {
      "cell_type": "code",
      "metadata": {
        "colab": {
          "base_uri": "https://localhost:8080/"
        },
        "id": "MUXK1okKvLBB",
        "outputId": "8f3181be-44c1-44d0-e370-372dcf3955a1"
      },
      "source": [
        "f_regression(x,y)"
      ],
      "execution_count": null,
      "outputs": [
        {
          "output_type": "execute_result",
          "data": {
            "text/plain": [
              "(array([56.04804786,  0.17558437]), array([7.19951844e-11, 6.76291372e-01]))"
            ]
          },
          "metadata": {
            "tags": []
          },
          "execution_count": 27
        }
      ]
    },
    {
      "cell_type": "code",
      "metadata": {
        "colab": {
          "base_uri": "https://localhost:8080/"
        },
        "id": "xXOhAdhTvSy3",
        "outputId": "add28c90-9c49-4865-fd42-9203e81b43e4"
      },
      "source": [
        "p_values = f_regression(x,y)[1]\n",
        "p_values"
      ],
      "execution_count": null,
      "outputs": [
        {
          "output_type": "execute_result",
          "data": {
            "text/plain": [
              "array([7.19951844e-11, 6.76291372e-01])"
            ]
          },
          "metadata": {
            "tags": []
          },
          "execution_count": 28
        }
      ]
    },
    {
      "cell_type": "code",
      "metadata": {
        "colab": {
          "base_uri": "https://localhost:8080/"
        },
        "id": "VQC_LZw_vbJn",
        "outputId": "94ac4a76-e965-49c9-f3db-f6d5abb1b9c9"
      },
      "source": [
        "p_values.round(3)"
      ],
      "execution_count": null,
      "outputs": [
        {
          "output_type": "execute_result",
          "data": {
            "text/plain": [
              "array([0.   , 0.676])"
            ]
          },
          "metadata": {
            "tags": []
          },
          "execution_count": 29
        }
      ]
    },
    {
      "cell_type": "markdown",
      "metadata": {
        "id": "mS214OR2Epvj"
      },
      "source": [
        "#Standardization (Feature Scaling)"
      ]
    },
    {
      "cell_type": "code",
      "metadata": {
        "id": "xOqVo-Vwvoiu"
      },
      "source": [
        "from sklearn.preprocessing import StandardScaler "
      ],
      "execution_count": null,
      "outputs": []
    },
    {
      "cell_type": "code",
      "metadata": {
        "id": "FOXQDeP7E4BR"
      },
      "source": [
        "scaler = StandardScaler()"
      ],
      "execution_count": null,
      "outputs": []
    },
    {
      "cell_type": "code",
      "metadata": {
        "colab": {
          "base_uri": "https://localhost:8080/"
        },
        "id": "Hy6TYciIFNH9",
        "outputId": "edc54027-a932-4866-fbea-199faf689cf9"
      },
      "source": [
        "scaler.fit(x)"
      ],
      "execution_count": null,
      "outputs": [
        {
          "output_type": "execute_result",
          "data": {
            "text/plain": [
              "StandardScaler(copy=True, with_mean=True, with_std=True)"
            ]
          },
          "metadata": {
            "tags": []
          },
          "execution_count": 6
        }
      ]
    },
    {
      "cell_type": "code",
      "metadata": {
        "id": "HwCL0NnwFPFz"
      },
      "source": [
        "x_scaled = scaler.transform(x)\n",
        "x_scaled"
      ],
      "execution_count": null,
      "outputs": []
    },
    {
      "cell_type": "markdown",
      "metadata": {
        "id": "AAhkzWggBEWh"
      },
      "source": [
        "#Linear Regression Example\n"
      ]
    },
    {
      "cell_type": "code",
      "metadata": {
        "colab": {
          "base_uri": "https://localhost:8080/",
          "height": 202
        },
        "id": "tySN-EO2hZxt",
        "outputId": "50ef3c8b-985a-495b-9c06-442955caba45"
      },
      "source": [
        "raw_data = pd.read_csv('/gdrive/MyDrive/csv/1.04.+Real-life+example.csv')\n",
        "raw_data.head()"
      ],
      "execution_count": null,
      "outputs": [
        {
          "output_type": "execute_result",
          "data": {
            "text/html": [
              "<div>\n",
              "<style scoped>\n",
              "    .dataframe tbody tr th:only-of-type {\n",
              "        vertical-align: middle;\n",
              "    }\n",
              "\n",
              "    .dataframe tbody tr th {\n",
              "        vertical-align: top;\n",
              "    }\n",
              "\n",
              "    .dataframe thead th {\n",
              "        text-align: right;\n",
              "    }\n",
              "</style>\n",
              "<table border=\"1\" class=\"dataframe\">\n",
              "  <thead>\n",
              "    <tr style=\"text-align: right;\">\n",
              "      <th></th>\n",
              "      <th>Brand</th>\n",
              "      <th>Price</th>\n",
              "      <th>Body</th>\n",
              "      <th>Mileage</th>\n",
              "      <th>EngineV</th>\n",
              "      <th>Engine Type</th>\n",
              "      <th>Registration</th>\n",
              "      <th>Year</th>\n",
              "      <th>Model</th>\n",
              "    </tr>\n",
              "  </thead>\n",
              "  <tbody>\n",
              "    <tr>\n",
              "      <th>0</th>\n",
              "      <td>BMW</td>\n",
              "      <td>4200.0</td>\n",
              "      <td>sedan</td>\n",
              "      <td>277</td>\n",
              "      <td>2.0</td>\n",
              "      <td>Petrol</td>\n",
              "      <td>yes</td>\n",
              "      <td>1991</td>\n",
              "      <td>320</td>\n",
              "    </tr>\n",
              "    <tr>\n",
              "      <th>1</th>\n",
              "      <td>Mercedes-Benz</td>\n",
              "      <td>7900.0</td>\n",
              "      <td>van</td>\n",
              "      <td>427</td>\n",
              "      <td>2.9</td>\n",
              "      <td>Diesel</td>\n",
              "      <td>yes</td>\n",
              "      <td>1999</td>\n",
              "      <td>Sprinter 212</td>\n",
              "    </tr>\n",
              "    <tr>\n",
              "      <th>2</th>\n",
              "      <td>Mercedes-Benz</td>\n",
              "      <td>13300.0</td>\n",
              "      <td>sedan</td>\n",
              "      <td>358</td>\n",
              "      <td>5.0</td>\n",
              "      <td>Gas</td>\n",
              "      <td>yes</td>\n",
              "      <td>2003</td>\n",
              "      <td>S 500</td>\n",
              "    </tr>\n",
              "    <tr>\n",
              "      <th>3</th>\n",
              "      <td>Audi</td>\n",
              "      <td>23000.0</td>\n",
              "      <td>crossover</td>\n",
              "      <td>240</td>\n",
              "      <td>4.2</td>\n",
              "      <td>Petrol</td>\n",
              "      <td>yes</td>\n",
              "      <td>2007</td>\n",
              "      <td>Q7</td>\n",
              "    </tr>\n",
              "    <tr>\n",
              "      <th>4</th>\n",
              "      <td>Toyota</td>\n",
              "      <td>18300.0</td>\n",
              "      <td>crossover</td>\n",
              "      <td>120</td>\n",
              "      <td>2.0</td>\n",
              "      <td>Petrol</td>\n",
              "      <td>yes</td>\n",
              "      <td>2011</td>\n",
              "      <td>Rav 4</td>\n",
              "    </tr>\n",
              "  </tbody>\n",
              "</table>\n",
              "</div>"
            ],
            "text/plain": [
              "           Brand    Price       Body  ...  Registration  Year         Model\n",
              "0            BMW   4200.0      sedan  ...           yes  1991           320\n",
              "1  Mercedes-Benz   7900.0        van  ...           yes  1999  Sprinter 212\n",
              "2  Mercedes-Benz  13300.0      sedan  ...           yes  2003         S 500\n",
              "3           Audi  23000.0  crossover  ...           yes  2007            Q7\n",
              "4         Toyota  18300.0  crossover  ...           yes  2011         Rav 4\n",
              "\n",
              "[5 rows x 9 columns]"
            ]
          },
          "metadata": {
            "tags": []
          },
          "execution_count": 3
        }
      ]
    },
    {
      "cell_type": "code",
      "metadata": {
        "colab": {
          "base_uri": "https://localhost:8080/",
          "height": 387
        },
        "id": "oFdgcKw6oIt_",
        "outputId": "c514b0e8-080d-4944-b9d7-0a69972d6eae"
      },
      "source": [
        "raw_data.describe(include='all')"
      ],
      "execution_count": null,
      "outputs": [
        {
          "output_type": "execute_result",
          "data": {
            "text/html": [
              "<div>\n",
              "<style scoped>\n",
              "    .dataframe tbody tr th:only-of-type {\n",
              "        vertical-align: middle;\n",
              "    }\n",
              "\n",
              "    .dataframe tbody tr th {\n",
              "        vertical-align: top;\n",
              "    }\n",
              "\n",
              "    .dataframe thead th {\n",
              "        text-align: right;\n",
              "    }\n",
              "</style>\n",
              "<table border=\"1\" class=\"dataframe\">\n",
              "  <thead>\n",
              "    <tr style=\"text-align: right;\">\n",
              "      <th></th>\n",
              "      <th>Brand</th>\n",
              "      <th>Price</th>\n",
              "      <th>Body</th>\n",
              "      <th>Mileage</th>\n",
              "      <th>EngineV</th>\n",
              "      <th>Engine Type</th>\n",
              "      <th>Registration</th>\n",
              "      <th>Year</th>\n",
              "      <th>Model</th>\n",
              "    </tr>\n",
              "  </thead>\n",
              "  <tbody>\n",
              "    <tr>\n",
              "      <th>count</th>\n",
              "      <td>4345</td>\n",
              "      <td>4173.000000</td>\n",
              "      <td>4345</td>\n",
              "      <td>4345.000000</td>\n",
              "      <td>4195.000000</td>\n",
              "      <td>4345</td>\n",
              "      <td>4345</td>\n",
              "      <td>4345.000000</td>\n",
              "      <td>4345</td>\n",
              "    </tr>\n",
              "    <tr>\n",
              "      <th>unique</th>\n",
              "      <td>7</td>\n",
              "      <td>NaN</td>\n",
              "      <td>6</td>\n",
              "      <td>NaN</td>\n",
              "      <td>NaN</td>\n",
              "      <td>4</td>\n",
              "      <td>2</td>\n",
              "      <td>NaN</td>\n",
              "      <td>312</td>\n",
              "    </tr>\n",
              "    <tr>\n",
              "      <th>top</th>\n",
              "      <td>Volkswagen</td>\n",
              "      <td>NaN</td>\n",
              "      <td>sedan</td>\n",
              "      <td>NaN</td>\n",
              "      <td>NaN</td>\n",
              "      <td>Diesel</td>\n",
              "      <td>yes</td>\n",
              "      <td>NaN</td>\n",
              "      <td>E-Class</td>\n",
              "    </tr>\n",
              "    <tr>\n",
              "      <th>freq</th>\n",
              "      <td>936</td>\n",
              "      <td>NaN</td>\n",
              "      <td>1649</td>\n",
              "      <td>NaN</td>\n",
              "      <td>NaN</td>\n",
              "      <td>2019</td>\n",
              "      <td>3947</td>\n",
              "      <td>NaN</td>\n",
              "      <td>199</td>\n",
              "    </tr>\n",
              "    <tr>\n",
              "      <th>mean</th>\n",
              "      <td>NaN</td>\n",
              "      <td>19418.746935</td>\n",
              "      <td>NaN</td>\n",
              "      <td>161.237284</td>\n",
              "      <td>2.790734</td>\n",
              "      <td>NaN</td>\n",
              "      <td>NaN</td>\n",
              "      <td>2006.550058</td>\n",
              "      <td>NaN</td>\n",
              "    </tr>\n",
              "    <tr>\n",
              "      <th>std</th>\n",
              "      <td>NaN</td>\n",
              "      <td>25584.242620</td>\n",
              "      <td>NaN</td>\n",
              "      <td>105.705797</td>\n",
              "      <td>5.066437</td>\n",
              "      <td>NaN</td>\n",
              "      <td>NaN</td>\n",
              "      <td>6.719097</td>\n",
              "      <td>NaN</td>\n",
              "    </tr>\n",
              "    <tr>\n",
              "      <th>min</th>\n",
              "      <td>NaN</td>\n",
              "      <td>600.000000</td>\n",
              "      <td>NaN</td>\n",
              "      <td>0.000000</td>\n",
              "      <td>0.600000</td>\n",
              "      <td>NaN</td>\n",
              "      <td>NaN</td>\n",
              "      <td>1969.000000</td>\n",
              "      <td>NaN</td>\n",
              "    </tr>\n",
              "    <tr>\n",
              "      <th>25%</th>\n",
              "      <td>NaN</td>\n",
              "      <td>6999.000000</td>\n",
              "      <td>NaN</td>\n",
              "      <td>86.000000</td>\n",
              "      <td>1.800000</td>\n",
              "      <td>NaN</td>\n",
              "      <td>NaN</td>\n",
              "      <td>2003.000000</td>\n",
              "      <td>NaN</td>\n",
              "    </tr>\n",
              "    <tr>\n",
              "      <th>50%</th>\n",
              "      <td>NaN</td>\n",
              "      <td>11500.000000</td>\n",
              "      <td>NaN</td>\n",
              "      <td>155.000000</td>\n",
              "      <td>2.200000</td>\n",
              "      <td>NaN</td>\n",
              "      <td>NaN</td>\n",
              "      <td>2008.000000</td>\n",
              "      <td>NaN</td>\n",
              "    </tr>\n",
              "    <tr>\n",
              "      <th>75%</th>\n",
              "      <td>NaN</td>\n",
              "      <td>21700.000000</td>\n",
              "      <td>NaN</td>\n",
              "      <td>230.000000</td>\n",
              "      <td>3.000000</td>\n",
              "      <td>NaN</td>\n",
              "      <td>NaN</td>\n",
              "      <td>2012.000000</td>\n",
              "      <td>NaN</td>\n",
              "    </tr>\n",
              "    <tr>\n",
              "      <th>max</th>\n",
              "      <td>NaN</td>\n",
              "      <td>300000.000000</td>\n",
              "      <td>NaN</td>\n",
              "      <td>980.000000</td>\n",
              "      <td>99.990000</td>\n",
              "      <td>NaN</td>\n",
              "      <td>NaN</td>\n",
              "      <td>2016.000000</td>\n",
              "      <td>NaN</td>\n",
              "    </tr>\n",
              "  </tbody>\n",
              "</table>\n",
              "</div>"
            ],
            "text/plain": [
              "             Brand          Price   Body  ...  Registration         Year    Model\n",
              "count         4345    4173.000000   4345  ...          4345  4345.000000     4345\n",
              "unique           7            NaN      6  ...             2          NaN      312\n",
              "top     Volkswagen            NaN  sedan  ...           yes          NaN  E-Class\n",
              "freq           936            NaN   1649  ...          3947          NaN      199\n",
              "mean           NaN   19418.746935    NaN  ...           NaN  2006.550058      NaN\n",
              "std            NaN   25584.242620    NaN  ...           NaN     6.719097      NaN\n",
              "min            NaN     600.000000    NaN  ...           NaN  1969.000000      NaN\n",
              "25%            NaN    6999.000000    NaN  ...           NaN  2003.000000      NaN\n",
              "50%            NaN   11500.000000    NaN  ...           NaN  2008.000000      NaN\n",
              "75%            NaN   21700.000000    NaN  ...           NaN  2012.000000      NaN\n",
              "max            NaN  300000.000000    NaN  ...           NaN  2016.000000      NaN\n",
              "\n",
              "[11 rows x 9 columns]"
            ]
          },
          "metadata": {
            "tags": []
          },
          "execution_count": 4
        }
      ]
    },
    {
      "cell_type": "code",
      "metadata": {
        "colab": {
          "base_uri": "https://localhost:8080/",
          "height": 387
        },
        "id": "g2zId4_Ko26L",
        "outputId": "b9ce5ed3-6dab-4b36-e705-b405756ee917"
      },
      "source": [
        "data = raw_data.drop(['Model'], axis=1)\n",
        "data.describe(include='all')"
      ],
      "execution_count": null,
      "outputs": [
        {
          "output_type": "execute_result",
          "data": {
            "text/html": [
              "<div>\n",
              "<style scoped>\n",
              "    .dataframe tbody tr th:only-of-type {\n",
              "        vertical-align: middle;\n",
              "    }\n",
              "\n",
              "    .dataframe tbody tr th {\n",
              "        vertical-align: top;\n",
              "    }\n",
              "\n",
              "    .dataframe thead th {\n",
              "        text-align: right;\n",
              "    }\n",
              "</style>\n",
              "<table border=\"1\" class=\"dataframe\">\n",
              "  <thead>\n",
              "    <tr style=\"text-align: right;\">\n",
              "      <th></th>\n",
              "      <th>Brand</th>\n",
              "      <th>Price</th>\n",
              "      <th>Body</th>\n",
              "      <th>Mileage</th>\n",
              "      <th>EngineV</th>\n",
              "      <th>Engine Type</th>\n",
              "      <th>Registration</th>\n",
              "      <th>Year</th>\n",
              "    </tr>\n",
              "  </thead>\n",
              "  <tbody>\n",
              "    <tr>\n",
              "      <th>count</th>\n",
              "      <td>4345</td>\n",
              "      <td>4173.000000</td>\n",
              "      <td>4345</td>\n",
              "      <td>4345.000000</td>\n",
              "      <td>4195.000000</td>\n",
              "      <td>4345</td>\n",
              "      <td>4345</td>\n",
              "      <td>4345.000000</td>\n",
              "    </tr>\n",
              "    <tr>\n",
              "      <th>unique</th>\n",
              "      <td>7</td>\n",
              "      <td>NaN</td>\n",
              "      <td>6</td>\n",
              "      <td>NaN</td>\n",
              "      <td>NaN</td>\n",
              "      <td>4</td>\n",
              "      <td>2</td>\n",
              "      <td>NaN</td>\n",
              "    </tr>\n",
              "    <tr>\n",
              "      <th>top</th>\n",
              "      <td>Volkswagen</td>\n",
              "      <td>NaN</td>\n",
              "      <td>sedan</td>\n",
              "      <td>NaN</td>\n",
              "      <td>NaN</td>\n",
              "      <td>Diesel</td>\n",
              "      <td>yes</td>\n",
              "      <td>NaN</td>\n",
              "    </tr>\n",
              "    <tr>\n",
              "      <th>freq</th>\n",
              "      <td>936</td>\n",
              "      <td>NaN</td>\n",
              "      <td>1649</td>\n",
              "      <td>NaN</td>\n",
              "      <td>NaN</td>\n",
              "      <td>2019</td>\n",
              "      <td>3947</td>\n",
              "      <td>NaN</td>\n",
              "    </tr>\n",
              "    <tr>\n",
              "      <th>mean</th>\n",
              "      <td>NaN</td>\n",
              "      <td>19418.746935</td>\n",
              "      <td>NaN</td>\n",
              "      <td>161.237284</td>\n",
              "      <td>2.790734</td>\n",
              "      <td>NaN</td>\n",
              "      <td>NaN</td>\n",
              "      <td>2006.550058</td>\n",
              "    </tr>\n",
              "    <tr>\n",
              "      <th>std</th>\n",
              "      <td>NaN</td>\n",
              "      <td>25584.242620</td>\n",
              "      <td>NaN</td>\n",
              "      <td>105.705797</td>\n",
              "      <td>5.066437</td>\n",
              "      <td>NaN</td>\n",
              "      <td>NaN</td>\n",
              "      <td>6.719097</td>\n",
              "    </tr>\n",
              "    <tr>\n",
              "      <th>min</th>\n",
              "      <td>NaN</td>\n",
              "      <td>600.000000</td>\n",
              "      <td>NaN</td>\n",
              "      <td>0.000000</td>\n",
              "      <td>0.600000</td>\n",
              "      <td>NaN</td>\n",
              "      <td>NaN</td>\n",
              "      <td>1969.000000</td>\n",
              "    </tr>\n",
              "    <tr>\n",
              "      <th>25%</th>\n",
              "      <td>NaN</td>\n",
              "      <td>6999.000000</td>\n",
              "      <td>NaN</td>\n",
              "      <td>86.000000</td>\n",
              "      <td>1.800000</td>\n",
              "      <td>NaN</td>\n",
              "      <td>NaN</td>\n",
              "      <td>2003.000000</td>\n",
              "    </tr>\n",
              "    <tr>\n",
              "      <th>50%</th>\n",
              "      <td>NaN</td>\n",
              "      <td>11500.000000</td>\n",
              "      <td>NaN</td>\n",
              "      <td>155.000000</td>\n",
              "      <td>2.200000</td>\n",
              "      <td>NaN</td>\n",
              "      <td>NaN</td>\n",
              "      <td>2008.000000</td>\n",
              "    </tr>\n",
              "    <tr>\n",
              "      <th>75%</th>\n",
              "      <td>NaN</td>\n",
              "      <td>21700.000000</td>\n",
              "      <td>NaN</td>\n",
              "      <td>230.000000</td>\n",
              "      <td>3.000000</td>\n",
              "      <td>NaN</td>\n",
              "      <td>NaN</td>\n",
              "      <td>2012.000000</td>\n",
              "    </tr>\n",
              "    <tr>\n",
              "      <th>max</th>\n",
              "      <td>NaN</td>\n",
              "      <td>300000.000000</td>\n",
              "      <td>NaN</td>\n",
              "      <td>980.000000</td>\n",
              "      <td>99.990000</td>\n",
              "      <td>NaN</td>\n",
              "      <td>NaN</td>\n",
              "      <td>2016.000000</td>\n",
              "    </tr>\n",
              "  </tbody>\n",
              "</table>\n",
              "</div>"
            ],
            "text/plain": [
              "             Brand          Price   Body  ...  Engine Type  Registration         Year\n",
              "count         4345    4173.000000   4345  ...         4345          4345  4345.000000\n",
              "unique           7            NaN      6  ...            4             2          NaN\n",
              "top     Volkswagen            NaN  sedan  ...       Diesel           yes          NaN\n",
              "freq           936            NaN   1649  ...         2019          3947          NaN\n",
              "mean           NaN   19418.746935    NaN  ...          NaN           NaN  2006.550058\n",
              "std            NaN   25584.242620    NaN  ...          NaN           NaN     6.719097\n",
              "min            NaN     600.000000    NaN  ...          NaN           NaN  1969.000000\n",
              "25%            NaN    6999.000000    NaN  ...          NaN           NaN  2003.000000\n",
              "50%            NaN   11500.000000    NaN  ...          NaN           NaN  2008.000000\n",
              "75%            NaN   21700.000000    NaN  ...          NaN           NaN  2012.000000\n",
              "max            NaN  300000.000000    NaN  ...          NaN           NaN  2016.000000\n",
              "\n",
              "[11 rows x 8 columns]"
            ]
          },
          "metadata": {
            "tags": []
          },
          "execution_count": 5
        }
      ]
    },
    {
      "cell_type": "markdown",
      "metadata": {
        "id": "aIxFNsnsprGJ"
      },
      "source": [
        "Dealing with missing values"
      ]
    },
    {
      "cell_type": "code",
      "metadata": {
        "colab": {
          "base_uri": "https://localhost:8080/"
        },
        "id": "_ZFenC2apbv1",
        "outputId": "301e40a6-19d3-497e-ecaa-1357740f9152"
      },
      "source": [
        "data.isnull().sum()"
      ],
      "execution_count": null,
      "outputs": [
        {
          "output_type": "execute_result",
          "data": {
            "text/plain": [
              "Brand             0\n",
              "Price           172\n",
              "Body              0\n",
              "Mileage           0\n",
              "EngineV         150\n",
              "Engine Type       0\n",
              "Registration      0\n",
              "Year              0\n",
              "dtype: int64"
            ]
          },
          "metadata": {
            "tags": []
          },
          "execution_count": 6
        }
      ]
    },
    {
      "cell_type": "code",
      "metadata": {
        "id": "zS9xHCjlpk1q"
      },
      "source": [
        "data = data.dropna(axis=0)"
      ],
      "execution_count": null,
      "outputs": []
    },
    {
      "cell_type": "code",
      "metadata": {
        "colab": {
          "base_uri": "https://localhost:8080/",
          "height": 387
        },
        "id": "9bc94vlLp5KJ",
        "outputId": "f2eb3e11-5a50-496c-ef56-9d0ee528e4ed"
      },
      "source": [
        "data.describe(include='all')"
      ],
      "execution_count": null,
      "outputs": [
        {
          "output_type": "execute_result",
          "data": {
            "text/html": [
              "<div>\n",
              "<style scoped>\n",
              "    .dataframe tbody tr th:only-of-type {\n",
              "        vertical-align: middle;\n",
              "    }\n",
              "\n",
              "    .dataframe tbody tr th {\n",
              "        vertical-align: top;\n",
              "    }\n",
              "\n",
              "    .dataframe thead th {\n",
              "        text-align: right;\n",
              "    }\n",
              "</style>\n",
              "<table border=\"1\" class=\"dataframe\">\n",
              "  <thead>\n",
              "    <tr style=\"text-align: right;\">\n",
              "      <th></th>\n",
              "      <th>Brand</th>\n",
              "      <th>Price</th>\n",
              "      <th>Body</th>\n",
              "      <th>Mileage</th>\n",
              "      <th>EngineV</th>\n",
              "      <th>Engine Type</th>\n",
              "      <th>Registration</th>\n",
              "      <th>Year</th>\n",
              "    </tr>\n",
              "  </thead>\n",
              "  <tbody>\n",
              "    <tr>\n",
              "      <th>count</th>\n",
              "      <td>4025</td>\n",
              "      <td>4025.000000</td>\n",
              "      <td>4025</td>\n",
              "      <td>4025.000000</td>\n",
              "      <td>4025.000000</td>\n",
              "      <td>4025</td>\n",
              "      <td>4025</td>\n",
              "      <td>4025.000000</td>\n",
              "    </tr>\n",
              "    <tr>\n",
              "      <th>unique</th>\n",
              "      <td>7</td>\n",
              "      <td>NaN</td>\n",
              "      <td>6</td>\n",
              "      <td>NaN</td>\n",
              "      <td>NaN</td>\n",
              "      <td>4</td>\n",
              "      <td>2</td>\n",
              "      <td>NaN</td>\n",
              "    </tr>\n",
              "    <tr>\n",
              "      <th>top</th>\n",
              "      <td>Volkswagen</td>\n",
              "      <td>NaN</td>\n",
              "      <td>sedan</td>\n",
              "      <td>NaN</td>\n",
              "      <td>NaN</td>\n",
              "      <td>Diesel</td>\n",
              "      <td>yes</td>\n",
              "      <td>NaN</td>\n",
              "    </tr>\n",
              "    <tr>\n",
              "      <th>freq</th>\n",
              "      <td>880</td>\n",
              "      <td>NaN</td>\n",
              "      <td>1534</td>\n",
              "      <td>NaN</td>\n",
              "      <td>NaN</td>\n",
              "      <td>1861</td>\n",
              "      <td>3654</td>\n",
              "      <td>NaN</td>\n",
              "    </tr>\n",
              "    <tr>\n",
              "      <th>mean</th>\n",
              "      <td>NaN</td>\n",
              "      <td>19552.308065</td>\n",
              "      <td>NaN</td>\n",
              "      <td>163.572174</td>\n",
              "      <td>2.764586</td>\n",
              "      <td>NaN</td>\n",
              "      <td>NaN</td>\n",
              "      <td>2006.379627</td>\n",
              "    </tr>\n",
              "    <tr>\n",
              "      <th>std</th>\n",
              "      <td>NaN</td>\n",
              "      <td>25815.734988</td>\n",
              "      <td>NaN</td>\n",
              "      <td>103.394703</td>\n",
              "      <td>4.935941</td>\n",
              "      <td>NaN</td>\n",
              "      <td>NaN</td>\n",
              "      <td>6.695595</td>\n",
              "    </tr>\n",
              "    <tr>\n",
              "      <th>min</th>\n",
              "      <td>NaN</td>\n",
              "      <td>600.000000</td>\n",
              "      <td>NaN</td>\n",
              "      <td>0.000000</td>\n",
              "      <td>0.600000</td>\n",
              "      <td>NaN</td>\n",
              "      <td>NaN</td>\n",
              "      <td>1969.000000</td>\n",
              "    </tr>\n",
              "    <tr>\n",
              "      <th>25%</th>\n",
              "      <td>NaN</td>\n",
              "      <td>6999.000000</td>\n",
              "      <td>NaN</td>\n",
              "      <td>90.000000</td>\n",
              "      <td>1.800000</td>\n",
              "      <td>NaN</td>\n",
              "      <td>NaN</td>\n",
              "      <td>2003.000000</td>\n",
              "    </tr>\n",
              "    <tr>\n",
              "      <th>50%</th>\n",
              "      <td>NaN</td>\n",
              "      <td>11500.000000</td>\n",
              "      <td>NaN</td>\n",
              "      <td>158.000000</td>\n",
              "      <td>2.200000</td>\n",
              "      <td>NaN</td>\n",
              "      <td>NaN</td>\n",
              "      <td>2007.000000</td>\n",
              "    </tr>\n",
              "    <tr>\n",
              "      <th>75%</th>\n",
              "      <td>NaN</td>\n",
              "      <td>21900.000000</td>\n",
              "      <td>NaN</td>\n",
              "      <td>230.000000</td>\n",
              "      <td>3.000000</td>\n",
              "      <td>NaN</td>\n",
              "      <td>NaN</td>\n",
              "      <td>2012.000000</td>\n",
              "    </tr>\n",
              "    <tr>\n",
              "      <th>max</th>\n",
              "      <td>NaN</td>\n",
              "      <td>300000.000000</td>\n",
              "      <td>NaN</td>\n",
              "      <td>980.000000</td>\n",
              "      <td>99.990000</td>\n",
              "      <td>NaN</td>\n",
              "      <td>NaN</td>\n",
              "      <td>2016.000000</td>\n",
              "    </tr>\n",
              "  </tbody>\n",
              "</table>\n",
              "</div>"
            ],
            "text/plain": [
              "             Brand          Price   Body  ...  Engine Type  Registration         Year\n",
              "count         4025    4025.000000   4025  ...         4025          4025  4025.000000\n",
              "unique           7            NaN      6  ...            4             2          NaN\n",
              "top     Volkswagen            NaN  sedan  ...       Diesel           yes          NaN\n",
              "freq           880            NaN   1534  ...         1861          3654          NaN\n",
              "mean           NaN   19552.308065    NaN  ...          NaN           NaN  2006.379627\n",
              "std            NaN   25815.734988    NaN  ...          NaN           NaN     6.695595\n",
              "min            NaN     600.000000    NaN  ...          NaN           NaN  1969.000000\n",
              "25%            NaN    6999.000000    NaN  ...          NaN           NaN  2003.000000\n",
              "50%            NaN   11500.000000    NaN  ...          NaN           NaN  2007.000000\n",
              "75%            NaN   21900.000000    NaN  ...          NaN           NaN  2012.000000\n",
              "max            NaN  300000.000000    NaN  ...          NaN           NaN  2016.000000\n",
              "\n",
              "[11 rows x 8 columns]"
            ]
          },
          "metadata": {
            "tags": []
          },
          "execution_count": 8
        }
      ]
    },
    {
      "cell_type": "markdown",
      "metadata": {
        "id": "-wrSkYlOqdQP"
      },
      "source": [
        "Exploring data"
      ]
    },
    {
      "cell_type": "code",
      "metadata": {
        "colab": {
          "base_uri": "https://localhost:8080/",
          "height": 385
        },
        "id": "-XTr-_r5p9JS",
        "outputId": "0f57a528-3bea-430a-aba9-5a5019904662"
      },
      "source": [
        "sns.displot(data['Price'])"
      ],
      "execution_count": null,
      "outputs": [
        {
          "output_type": "execute_result",
          "data": {
            "text/plain": [
              "<seaborn.axisgrid.FacetGrid at 0x7f6ec2270550>"
            ]
          },
          "metadata": {
            "tags": []
          },
          "execution_count": 9
        },
        {
          "output_type": "display_data",
          "data": {
            "image/png": "[encoded data removed]",
            "text/plain": [
              "<Figure size 360x360 with 1 Axes>"
            ]
          },
          "metadata": {
            "tags": [],
            "needs_background": "light"
          }
        }
      ]
    },
    {
      "cell_type": "markdown",
      "metadata": {
        "id": "_1i5b4O2rLP1"
      },
      "source": [
        "Dealing with outliers\n",
        "\n",
        "Outliers: points exponentialy away from the data"
      ]
    },
    {
      "cell_type": "code",
      "metadata": {
        "colab": {
          "base_uri": "https://localhost:8080/",
          "height": 387
        },
        "id": "iZoa3dDVq5Wt",
        "outputId": "e5c3ead5-5fc9-4617-b665-6f09d212960d"
      },
      "source": [
        "q = data['Price'].quantile(0.99)\n",
        "data_1 = data[data['Price']<q]\n",
        "data_1.describe(include='all')"
      ],
      "execution_count": null,
      "outputs": [
        {
          "output_type": "execute_result",
          "data": {
            "text/html": [
              "<div>\n",
              "<style scoped>\n",
              "    .dataframe tbody tr th:only-of-type {\n",
              "        vertical-align: middle;\n",
              "    }\n",
              "\n",
              "    .dataframe tbody tr th {\n",
              "        vertical-align: top;\n",
              "    }\n",
              "\n",
              "    .dataframe thead th {\n",
              "        text-align: right;\n",
              "    }\n",
              "</style>\n",
              "<table border=\"1\" class=\"dataframe\">\n",
              "  <thead>\n",
              "    <tr style=\"text-align: right;\">\n",
              "      <th></th>\n",
              "      <th>Brand</th>\n",
              "      <th>Price</th>\n",
              "      <th>Body</th>\n",
              "      <th>Mileage</th>\n",
              "      <th>EngineV</th>\n",
              "      <th>Engine Type</th>\n",
              "      <th>Registration</th>\n",
              "      <th>Year</th>\n",
              "    </tr>\n",
              "  </thead>\n",
              "  <tbody>\n",
              "    <tr>\n",
              "      <th>count</th>\n",
              "      <td>3984</td>\n",
              "      <td>3984.000000</td>\n",
              "      <td>3984</td>\n",
              "      <td>3984.000000</td>\n",
              "      <td>3984.000000</td>\n",
              "      <td>3984</td>\n",
              "      <td>3984</td>\n",
              "      <td>3984.000000</td>\n",
              "    </tr>\n",
              "    <tr>\n",
              "      <th>unique</th>\n",
              "      <td>7</td>\n",
              "      <td>NaN</td>\n",
              "      <td>6</td>\n",
              "      <td>NaN</td>\n",
              "      <td>NaN</td>\n",
              "      <td>4</td>\n",
              "      <td>2</td>\n",
              "      <td>NaN</td>\n",
              "    </tr>\n",
              "    <tr>\n",
              "      <th>top</th>\n",
              "      <td>Volkswagen</td>\n",
              "      <td>NaN</td>\n",
              "      <td>sedan</td>\n",
              "      <td>NaN</td>\n",
              "      <td>NaN</td>\n",
              "      <td>Diesel</td>\n",
              "      <td>yes</td>\n",
              "      <td>NaN</td>\n",
              "    </tr>\n",
              "    <tr>\n",
              "      <th>freq</th>\n",
              "      <td>880</td>\n",
              "      <td>NaN</td>\n",
              "      <td>1528</td>\n",
              "      <td>NaN</td>\n",
              "      <td>NaN</td>\n",
              "      <td>1853</td>\n",
              "      <td>3613</td>\n",
              "      <td>NaN</td>\n",
              "    </tr>\n",
              "    <tr>\n",
              "      <th>mean</th>\n",
              "      <td>NaN</td>\n",
              "      <td>17837.117460</td>\n",
              "      <td>NaN</td>\n",
              "      <td>165.116466</td>\n",
              "      <td>2.743770</td>\n",
              "      <td>NaN</td>\n",
              "      <td>NaN</td>\n",
              "      <td>2006.292922</td>\n",
              "    </tr>\n",
              "    <tr>\n",
              "      <th>std</th>\n",
              "      <td>NaN</td>\n",
              "      <td>18976.268315</td>\n",
              "      <td>NaN</td>\n",
              "      <td>102.766126</td>\n",
              "      <td>4.956057</td>\n",
              "      <td>NaN</td>\n",
              "      <td>NaN</td>\n",
              "      <td>6.672745</td>\n",
              "    </tr>\n",
              "    <tr>\n",
              "      <th>min</th>\n",
              "      <td>NaN</td>\n",
              "      <td>600.000000</td>\n",
              "      <td>NaN</td>\n",
              "      <td>0.000000</td>\n",
              "      <td>0.600000</td>\n",
              "      <td>NaN</td>\n",
              "      <td>NaN</td>\n",
              "      <td>1969.000000</td>\n",
              "    </tr>\n",
              "    <tr>\n",
              "      <th>25%</th>\n",
              "      <td>NaN</td>\n",
              "      <td>6980.000000</td>\n",
              "      <td>NaN</td>\n",
              "      <td>93.000000</td>\n",
              "      <td>1.800000</td>\n",
              "      <td>NaN</td>\n",
              "      <td>NaN</td>\n",
              "      <td>2002.750000</td>\n",
              "    </tr>\n",
              "    <tr>\n",
              "      <th>50%</th>\n",
              "      <td>NaN</td>\n",
              "      <td>11400.000000</td>\n",
              "      <td>NaN</td>\n",
              "      <td>160.000000</td>\n",
              "      <td>2.200000</td>\n",
              "      <td>NaN</td>\n",
              "      <td>NaN</td>\n",
              "      <td>2007.000000</td>\n",
              "    </tr>\n",
              "    <tr>\n",
              "      <th>75%</th>\n",
              "      <td>NaN</td>\n",
              "      <td>21000.000000</td>\n",
              "      <td>NaN</td>\n",
              "      <td>230.000000</td>\n",
              "      <td>3.000000</td>\n",
              "      <td>NaN</td>\n",
              "      <td>NaN</td>\n",
              "      <td>2011.000000</td>\n",
              "    </tr>\n",
              "    <tr>\n",
              "      <th>max</th>\n",
              "      <td>NaN</td>\n",
              "      <td>129222.000000</td>\n",
              "      <td>NaN</td>\n",
              "      <td>980.000000</td>\n",
              "      <td>99.990000</td>\n",
              "      <td>NaN</td>\n",
              "      <td>NaN</td>\n",
              "      <td>2016.000000</td>\n",
              "    </tr>\n",
              "  </tbody>\n",
              "</table>\n",
              "</div>"
            ],
            "text/plain": [
              "             Brand          Price   Body  ...  Engine Type  Registration         Year\n",
              "count         3984    3984.000000   3984  ...         3984          3984  3984.000000\n",
              "unique           7            NaN      6  ...            4             2          NaN\n",
              "top     Volkswagen            NaN  sedan  ...       Diesel           yes          NaN\n",
              "freq           880            NaN   1528  ...         1853          3613          NaN\n",
              "mean           NaN   17837.117460    NaN  ...          NaN           NaN  2006.292922\n",
              "std            NaN   18976.268315    NaN  ...          NaN           NaN     6.672745\n",
              "min            NaN     600.000000    NaN  ...          NaN           NaN  1969.000000\n",
              "25%            NaN    6980.000000    NaN  ...          NaN           NaN  2002.750000\n",
              "50%            NaN   11400.000000    NaN  ...          NaN           NaN  2007.000000\n",
              "75%            NaN   21000.000000    NaN  ...          NaN           NaN  2011.000000\n",
              "max            NaN  129222.000000    NaN  ...          NaN           NaN  2016.000000\n",
              "\n",
              "[11 rows x 8 columns]"
            ]
          },
          "metadata": {
            "tags": []
          },
          "execution_count": 10
        }
      ]
    },
    {
      "cell_type": "code",
      "metadata": {
        "colab": {
          "base_uri": "https://localhost:8080/",
          "height": 385
        },
        "id": "manGDEJQr9az",
        "outputId": "ac6a729f-45d8-4b5c-c14f-0ed01292fea8"
      },
      "source": [
        "sns.displot(data_1['Price'])"
      ],
      "execution_count": null,
      "outputs": [
        {
          "output_type": "execute_result",
          "data": {
            "text/plain": [
              "<seaborn.axisgrid.FacetGrid at 0x7f6e978fc210>"
            ]
          },
          "metadata": {
            "tags": []
          },
          "execution_count": 11
        },
        {
          "output_type": "display_data",
          "data": {
            "image/png": "[encoded data removed]",
            "text/plain": [
              "<Figure size 360x360 with 1 Axes>"
            ]
          },
          "metadata": {
            "tags": [],
            "needs_background": "light"
          }
        }
      ]
    },
    {
      "cell_type": "code",
      "metadata": {
        "colab": {
          "base_uri": "https://localhost:8080/",
          "height": 385
        },
        "id": "hnamFUMRsLcp",
        "outputId": "41e1dbf8-4398-4da6-977a-caa6fe66230a"
      },
      "source": [
        "sns.displot(data_1['Mileage'])"
      ],
      "execution_count": null,
      "outputs": [
        {
          "output_type": "execute_result",
          "data": {
            "text/plain": [
              "<seaborn.axisgrid.FacetGrid at 0x7f6e9736fa90>"
            ]
          },
          "metadata": {
            "tags": []
          },
          "execution_count": 12
        },
        {
          "output_type": "display_data",
          "data": {
            "image/png": "[encoded data removed]",
            "text/plain": [
              "<Figure size 360x360 with 1 Axes>"
            ]
          },
          "metadata": {
            "tags": [],
            "needs_background": "light"
          }
        }
      ]
    },
    {
      "cell_type": "code",
      "metadata": {
        "id": "pxhamHtHsZOS"
      },
      "source": [
        "q = data_1['Mileage'].quantile(0.99)\n",
        "data_2 = data_1[data_1['Mileage']<q]"
      ],
      "execution_count": null,
      "outputs": []
    },
    {
      "cell_type": "code",
      "metadata": {
        "colab": {
          "base_uri": "https://localhost:8080/",
          "height": 385
        },
        "id": "lLI7Xm2csxJr",
        "outputId": "37db9ba5-e8f5-4298-8b4f-633dc63847c7"
      },
      "source": [
        "sns.displot(data_2['Mileage'])"
      ],
      "execution_count": null,
      "outputs": [
        {
          "output_type": "execute_result",
          "data": {
            "text/plain": [
              "<seaborn.axisgrid.FacetGrid at 0x7f6e9720e9d0>"
            ]
          },
          "metadata": {
            "tags": []
          },
          "execution_count": 14
        },
        {
          "output_type": "display_data",
          "data": {
            "image/png": "[encoded data removed]",
            "text/plain": [
              "<Figure size 360x360 with 1 Axes>"
            ]
          },
          "metadata": {
            "tags": [],
            "needs_background": "light"
          }
        }
      ]
    },
    {
      "cell_type": "code",
      "metadata": {
        "colab": {
          "base_uri": "https://localhost:8080/",
          "height": 385
        },
        "id": "BuLulRhvskla",
        "outputId": "1700d412-7290-4dea-bcce-d55902b3d879"
      },
      "source": [
        "sns.displot(data_2['EngineV'])"
      ],
      "execution_count": null,
      "outputs": [
        {
          "output_type": "execute_result",
          "data": {
            "text/plain": [
              "<seaborn.axisgrid.FacetGrid at 0x7f6e97212e10>"
            ]
          },
          "metadata": {
            "tags": []
          },
          "execution_count": 15
        },
        {
          "output_type": "display_data",
          "data": {
            "image/png": "[encoded data removed]",
            "text/plain": [
              "<Figure size 360x360 with 1 Axes>"
            ]
          },
          "metadata": {
            "tags": [],
            "needs_background": "light"
          }
        }
      ]
    },
    {
      "cell_type": "code",
      "metadata": {
        "id": "B3ECdiQ0st76"
      },
      "source": [
        "data_3 = data_2[data_2['EngineV']<6.5]"
      ],
      "execution_count": null,
      "outputs": []
    },
    {
      "cell_type": "code",
      "metadata": {
        "colab": {
          "base_uri": "https://localhost:8080/",
          "height": 385
        },
        "id": "wxCVmsOTtcT1",
        "outputId": "199b4c34-d12b-49bb-cf6c-3cb0590daaf6"
      },
      "source": [
        "sns.displot(data_3['EngineV'])"
      ],
      "execution_count": null,
      "outputs": [
        {
          "output_type": "execute_result",
          "data": {
            "text/plain": [
              "<seaborn.axisgrid.FacetGrid at 0x7f6e971b5f10>"
            ]
          },
          "metadata": {
            "tags": []
          },
          "execution_count": 17
        },
        {
          "output_type": "display_data",
          "data": {
            "image/png": "[encoded data removed]",
            "text/plain": [
              "<Figure size 360x360 with 1 Axes>"
            ]
          },
          "metadata": {
            "tags": [],
            "needs_background": "light"
          }
        }
      ]
    },
    {
      "cell_type": "code",
      "metadata": {
        "colab": {
          "base_uri": "https://localhost:8080/",
          "height": 385
        },
        "id": "9gvBrLFDtfvb",
        "outputId": "44141c04-6fb6-44b1-e892-6091b4763209"
      },
      "source": [
        "sns.displot(data_3['Year'])"
      ],
      "execution_count": null,
      "outputs": [
        {
          "output_type": "execute_result",
          "data": {
            "text/plain": [
              "<seaborn.axisgrid.FacetGrid at 0x7f6e972bbed0>"
            ]
          },
          "metadata": {
            "tags": []
          },
          "execution_count": 18
        },
        {
          "output_type": "display_data",
          "data": {
            "image/png": "[encoded data removed]",
            "text/plain": [
              "<Figure size 360x360 with 1 Axes>"
            ]
          },
          "metadata": {
            "tags": [],
            "needs_background": "light"
          }
        }
      ]
    },
    {
      "cell_type": "code",
      "metadata": {
        "id": "hgrbqmIEtmGg"
      },
      "source": [
        "q = data_3['Year'].quantile(0.01)\n",
        "data_4 = data_3[data_3['Year']>q]"
      ],
      "execution_count": null,
      "outputs": []
    },
    {
      "cell_type": "code",
      "metadata": {
        "colab": {
          "base_uri": "https://localhost:8080/",
          "height": 385
        },
        "id": "oNcGOkIYt0ZK",
        "outputId": "9cc82a21-60f7-4933-c3e2-e122681e9da6"
      },
      "source": [
        "sns.displot(data_4['Year'])"
      ],
      "execution_count": null,
      "outputs": [
        {
          "output_type": "execute_result",
          "data": {
            "text/plain": [
              "<seaborn.axisgrid.FacetGrid at 0x7f6e9684aa90>"
            ]
          },
          "metadata": {
            "tags": []
          },
          "execution_count": 20
        },
        {
          "output_type": "display_data",
          "data": {
            "image/png": "[encoded data removed]",
            "text/plain": [
              "<Figure size 360x360 with 1 Axes>"
            ]
          },
          "metadata": {
            "tags": [],
            "needs_background": "light"
          }
        }
      ]
    },
    {
      "cell_type": "code",
      "metadata": {
        "id": "GgWE-NTet4GC"
      },
      "source": [
        "data_cleaned = data_4.reset_index(drop = True)"
      ],
      "execution_count": null,
      "outputs": []
    },
    {
      "cell_type": "code",
      "metadata": {
        "colab": {
          "base_uri": "https://localhost:8080/",
          "height": 387
        },
        "id": "4yM9dQeIuBDi",
        "outputId": "4fe9c4bb-ed7d-4834-ac30-3b8b8dc6190a"
      },
      "source": [
        "data_cleaned.describe(include='all')"
      ],
      "execution_count": null,
      "outputs": [
        {
          "output_type": "execute_result",
          "data": {
            "text/html": [
              "<div>\n",
              "<style scoped>\n",
              "    .dataframe tbody tr th:only-of-type {\n",
              "        vertical-align: middle;\n",
              "    }\n",
              "\n",
              "    .dataframe tbody tr th {\n",
              "        vertical-align: top;\n",
              "    }\n",
              "\n",
              "    .dataframe thead th {\n",
              "        text-align: right;\n",
              "    }\n",
              "</style>\n",
              "<table border=\"1\" class=\"dataframe\">\n",
              "  <thead>\n",
              "    <tr style=\"text-align: right;\">\n",
              "      <th></th>\n",
              "      <th>Brand</th>\n",
              "      <th>Price</th>\n",
              "      <th>Body</th>\n",
              "      <th>Mileage</th>\n",
              "      <th>EngineV</th>\n",
              "      <th>Engine Type</th>\n",
              "      <th>Registration</th>\n",
              "      <th>Year</th>\n",
              "    </tr>\n",
              "  </thead>\n",
              "  <tbody>\n",
              "    <tr>\n",
              "      <th>count</th>\n",
              "      <td>3867</td>\n",
              "      <td>3867.000000</td>\n",
              "      <td>3867</td>\n",
              "      <td>3867.000000</td>\n",
              "      <td>3867.000000</td>\n",
              "      <td>3867</td>\n",
              "      <td>3867</td>\n",
              "      <td>3867.000000</td>\n",
              "    </tr>\n",
              "    <tr>\n",
              "      <th>unique</th>\n",
              "      <td>7</td>\n",
              "      <td>NaN</td>\n",
              "      <td>6</td>\n",
              "      <td>NaN</td>\n",
              "      <td>NaN</td>\n",
              "      <td>4</td>\n",
              "      <td>2</td>\n",
              "      <td>NaN</td>\n",
              "    </tr>\n",
              "    <tr>\n",
              "      <th>top</th>\n",
              "      <td>Volkswagen</td>\n",
              "      <td>NaN</td>\n",
              "      <td>sedan</td>\n",
              "      <td>NaN</td>\n",
              "      <td>NaN</td>\n",
              "      <td>Diesel</td>\n",
              "      <td>yes</td>\n",
              "      <td>NaN</td>\n",
              "    </tr>\n",
              "    <tr>\n",
              "      <th>freq</th>\n",
              "      <td>848</td>\n",
              "      <td>NaN</td>\n",
              "      <td>1467</td>\n",
              "      <td>NaN</td>\n",
              "      <td>NaN</td>\n",
              "      <td>1807</td>\n",
              "      <td>3505</td>\n",
              "      <td>NaN</td>\n",
              "    </tr>\n",
              "    <tr>\n",
              "      <th>mean</th>\n",
              "      <td>NaN</td>\n",
              "      <td>18194.455679</td>\n",
              "      <td>NaN</td>\n",
              "      <td>160.542539</td>\n",
              "      <td>2.450440</td>\n",
              "      <td>NaN</td>\n",
              "      <td>NaN</td>\n",
              "      <td>2006.709853</td>\n",
              "    </tr>\n",
              "    <tr>\n",
              "      <th>std</th>\n",
              "      <td>NaN</td>\n",
              "      <td>19085.855165</td>\n",
              "      <td>NaN</td>\n",
              "      <td>95.633291</td>\n",
              "      <td>0.949366</td>\n",
              "      <td>NaN</td>\n",
              "      <td>NaN</td>\n",
              "      <td>6.103870</td>\n",
              "    </tr>\n",
              "    <tr>\n",
              "      <th>min</th>\n",
              "      <td>NaN</td>\n",
              "      <td>800.000000</td>\n",
              "      <td>NaN</td>\n",
              "      <td>0.000000</td>\n",
              "      <td>0.600000</td>\n",
              "      <td>NaN</td>\n",
              "      <td>NaN</td>\n",
              "      <td>1988.000000</td>\n",
              "    </tr>\n",
              "    <tr>\n",
              "      <th>25%</th>\n",
              "      <td>NaN</td>\n",
              "      <td>7200.000000</td>\n",
              "      <td>NaN</td>\n",
              "      <td>91.000000</td>\n",
              "      <td>1.800000</td>\n",
              "      <td>NaN</td>\n",
              "      <td>NaN</td>\n",
              "      <td>2003.000000</td>\n",
              "    </tr>\n",
              "    <tr>\n",
              "      <th>50%</th>\n",
              "      <td>NaN</td>\n",
              "      <td>11700.000000</td>\n",
              "      <td>NaN</td>\n",
              "      <td>157.000000</td>\n",
              "      <td>2.200000</td>\n",
              "      <td>NaN</td>\n",
              "      <td>NaN</td>\n",
              "      <td>2008.000000</td>\n",
              "    </tr>\n",
              "    <tr>\n",
              "      <th>75%</th>\n",
              "      <td>NaN</td>\n",
              "      <td>21700.000000</td>\n",
              "      <td>NaN</td>\n",
              "      <td>225.000000</td>\n",
              "      <td>3.000000</td>\n",
              "      <td>NaN</td>\n",
              "      <td>NaN</td>\n",
              "      <td>2012.000000</td>\n",
              "    </tr>\n",
              "    <tr>\n",
              "      <th>max</th>\n",
              "      <td>NaN</td>\n",
              "      <td>129222.000000</td>\n",
              "      <td>NaN</td>\n",
              "      <td>435.000000</td>\n",
              "      <td>6.300000</td>\n",
              "      <td>NaN</td>\n",
              "      <td>NaN</td>\n",
              "      <td>2016.000000</td>\n",
              "    </tr>\n",
              "  </tbody>\n",
              "</table>\n",
              "</div>"
            ],
            "text/plain": [
              "             Brand          Price   Body  ...  Engine Type  Registration         Year\n",
              "count         3867    3867.000000   3867  ...         3867          3867  3867.000000\n",
              "unique           7            NaN      6  ...            4             2          NaN\n",
              "top     Volkswagen            NaN  sedan  ...       Diesel           yes          NaN\n",
              "freq           848            NaN   1467  ...         1807          3505          NaN\n",
              "mean           NaN   18194.455679    NaN  ...          NaN           NaN  2006.709853\n",
              "std            NaN   19085.855165    NaN  ...          NaN           NaN     6.103870\n",
              "min            NaN     800.000000    NaN  ...          NaN           NaN  1988.000000\n",
              "25%            NaN    7200.000000    NaN  ...          NaN           NaN  2003.000000\n",
              "50%            NaN   11700.000000    NaN  ...          NaN           NaN  2008.000000\n",
              "75%            NaN   21700.000000    NaN  ...          NaN           NaN  2012.000000\n",
              "max            NaN  129222.000000    NaN  ...          NaN           NaN  2016.000000\n",
              "\n",
              "[11 rows x 8 columns]"
            ]
          },
          "metadata": {
            "tags": []
          },
          "execution_count": 22
        }
      ]
    },
    {
      "cell_type": "code",
      "metadata": {
        "id": "_b2prYEEuMJK",
        "colab": {
          "base_uri": "https://localhost:8080/",
          "height": 227
        },
        "outputId": "29f0fef4-6c5f-4f7a-be84-199aa300c6fb"
      },
      "source": [
        "f, (ax1, ax2, ax3) = plt.subplots(1, 3, sharey=True, figsize=(15,3))\n",
        "ax1.scatter(data_cleaned['Year'], data_cleaned['Price'])\n",
        "ax1.set_title(\"Price & Year\")\n",
        "ax2.scatter(data_cleaned['EngineV'], data_cleaned['Price'])\n",
        "ax2.set_title(\"Price & EngineV\")\n",
        "ax3.scatter(data_cleaned['Mileage'], data_cleaned['Price'])\n",
        "ax3.set_title(\"Price & Mileage\")\n",
        "plt.show()"
      ],
      "execution_count": null,
      "outputs": [
        {
          "output_type": "display_data",
          "data": {
            "image/png": "[encoded data removed]",
            "text/plain": [
              "<Figure size 1080x216 with 3 Axes>"
            ]
          },
          "metadata": {
            "tags": [],
            "needs_background": "light"
          }
        }
      ]
    },
    {
      "cell_type": "code",
      "metadata": {
        "id": "cwFAsMRPx3sW"
      },
      "source": [
        "log_price = np.log(data_cleaned['Price'])\n",
        "data_cleaned['log_price'] = log_price"
      ],
      "execution_count": null,
      "outputs": []
    },
    {
      "cell_type": "code",
      "metadata": {
        "colab": {
          "base_uri": "https://localhost:8080/",
          "height": 227
        },
        "id": "WPtHvddoyl7W",
        "outputId": "1a684abf-4f48-4a68-b2c2-3a494d5d452c"
      },
      "source": [
        "f, (ax1, ax2, ax3) = plt.subplots(1, 3, sharey=True, figsize=(15,3))\n",
        "ax1.scatter(data_cleaned['Year'], data_cleaned['log_price'])\n",
        "ax1.set_title(\"Log Price & Year\")\n",
        "ax2.scatter(data_cleaned['EngineV'], data_cleaned['log_price'])\n",
        "ax2.set_title(\"Log Price & EngineV\")\n",
        "ax3.scatter(data_cleaned['Mileage'], data_cleaned['log_price'])\n",
        "ax3.set_title(\"Log Price & Mileage\")\n",
        "plt.show()"
      ],
      "execution_count": null,
      "outputs": [
        {
          "output_type": "display_data",
          "data": {
            "image/png": "[encoded data removed]",
            "text/plain": [
              "<Figure size 1080x216 with 3 Axes>"
            ]
          },
          "metadata": {
            "tags": [],
            "needs_background": "light"
          }
        }
      ]
    },
    {
      "cell_type": "code",
      "metadata": {
        "id": "vcwJIUSWyq21"
      },
      "source": [
        "data_cleaned = data_cleaned.drop('Price', axis = 1)"
      ],
      "execution_count": null,
      "outputs": []
    },
    {
      "cell_type": "markdown",
      "metadata": {
        "id": "7eVHg3-V291y"
      },
      "source": [
        "Multicolinearity"
      ]
    },
    {
      "cell_type": "code",
      "metadata": {
        "colab": {
          "base_uri": "https://localhost:8080/"
        },
        "id": "mwiwirmezCZl",
        "outputId": "7a822f8c-a5e3-4c43-9d41-803c06c951c5"
      },
      "source": [
        "data_cleaned.columns.values"
      ],
      "execution_count": null,
      "outputs": [
        {
          "output_type": "execute_result",
          "data": {
            "text/plain": [
              "array(['Brand', 'Body', 'Mileage', 'EngineV', 'Engine Type',\n",
              "       'Registration', 'Year', 'log_price'], dtype=object)"
            ]
          },
          "metadata": {
            "tags": []
          },
          "execution_count": 27
        }
      ]
    },
    {
      "cell_type": "code",
      "metadata": {
        "id": "j2pihU542Q22"
      },
      "source": [
        "from statsmodels.stats.outliers_influence import variance_inflation_factor\n",
        "variables = data_cleaned[['Mileage', 'Year', 'EngineV']]\n",
        "vif = pd.DataFrame()\n",
        "vif['VIF'] = [variance_inflation_factor(variables.values,  i) for i in range(variables.shape[1])]\n",
        "vif['features'] = variables.columns"
      ],
      "execution_count": null,
      "outputs": []
    },
    {
      "cell_type": "code",
      "metadata": {
        "colab": {
          "base_uri": "https://localhost:8080/",
          "height": 141
        },
        "id": "djTnbeRY38k7",
        "outputId": "b737b4f7-171a-49dd-cf67-19b4d7adb308"
      },
      "source": [
        "vif"
      ],
      "execution_count": null,
      "outputs": [
        {
          "output_type": "execute_result",
          "data": {
            "text/html": [
              "<div>\n",
              "<style scoped>\n",
              "    .dataframe tbody tr th:only-of-type {\n",
              "        vertical-align: middle;\n",
              "    }\n",
              "\n",
              "    .dataframe tbody tr th {\n",
              "        vertical-align: top;\n",
              "    }\n",
              "\n",
              "    .dataframe thead th {\n",
              "        text-align: right;\n",
              "    }\n",
              "</style>\n",
              "<table border=\"1\" class=\"dataframe\">\n",
              "  <thead>\n",
              "    <tr style=\"text-align: right;\">\n",
              "      <th></th>\n",
              "      <th>VIF</th>\n",
              "      <th>features</th>\n",
              "    </tr>\n",
              "  </thead>\n",
              "  <tbody>\n",
              "    <tr>\n",
              "      <th>0</th>\n",
              "      <td>3.791584</td>\n",
              "      <td>Mileage</td>\n",
              "    </tr>\n",
              "    <tr>\n",
              "      <th>1</th>\n",
              "      <td>10.354854</td>\n",
              "      <td>Year</td>\n",
              "    </tr>\n",
              "    <tr>\n",
              "      <th>2</th>\n",
              "      <td>7.662068</td>\n",
              "      <td>EngineV</td>\n",
              "    </tr>\n",
              "  </tbody>\n",
              "</table>\n",
              "</div>"
            ],
            "text/plain": [
              "         VIF features\n",
              "0   3.791584  Mileage\n",
              "1  10.354854     Year\n",
              "2   7.662068  EngineV"
            ]
          },
          "metadata": {
            "tags": []
          },
          "execution_count": 29
        }
      ]
    },
    {
      "cell_type": "code",
      "metadata": {
        "id": "To4n5mZ24GDj"
      },
      "source": [
        "data_no_multicolinearity = data_cleaned.drop(['Year'], axis= 1)"
      ],
      "execution_count": null,
      "outputs": []
    },
    {
      "cell_type": "markdown",
      "metadata": {
        "id": "YANx2BChYqn_"
      },
      "source": [
        "Dummy variables"
      ]
    },
    {
      "cell_type": "code",
      "metadata": {
        "colab": {
          "base_uri": "https://localhost:8080/",
          "height": 202
        },
        "id": "Z8YNduFNZCLF",
        "outputId": "0684f2bb-6c31-4b8e-cd7d-680746be52cd"
      },
      "source": [
        "data_no_multicolinearity.head()"
      ],
      "execution_count": null,
      "outputs": [
        {
          "output_type": "execute_result",
          "data": {
            "text/html": [
              "<div>\n",
              "<style scoped>\n",
              "    .dataframe tbody tr th:only-of-type {\n",
              "        vertical-align: middle;\n",
              "    }\n",
              "\n",
              "    .dataframe tbody tr th {\n",
              "        vertical-align: top;\n",
              "    }\n",
              "\n",
              "    .dataframe thead th {\n",
              "        text-align: right;\n",
              "    }\n",
              "</style>\n",
              "<table border=\"1\" class=\"dataframe\">\n",
              "  <thead>\n",
              "    <tr style=\"text-align: right;\">\n",
              "      <th></th>\n",
              "      <th>Brand</th>\n",
              "      <th>Body</th>\n",
              "      <th>Mileage</th>\n",
              "      <th>EngineV</th>\n",
              "      <th>Engine Type</th>\n",
              "      <th>Registration</th>\n",
              "      <th>log_price</th>\n",
              "    </tr>\n",
              "  </thead>\n",
              "  <tbody>\n",
              "    <tr>\n",
              "      <th>0</th>\n",
              "      <td>BMW</td>\n",
              "      <td>sedan</td>\n",
              "      <td>277</td>\n",
              "      <td>2.0</td>\n",
              "      <td>Petrol</td>\n",
              "      <td>yes</td>\n",
              "      <td>8.342840</td>\n",
              "    </tr>\n",
              "    <tr>\n",
              "      <th>1</th>\n",
              "      <td>Mercedes-Benz</td>\n",
              "      <td>van</td>\n",
              "      <td>427</td>\n",
              "      <td>2.9</td>\n",
              "      <td>Diesel</td>\n",
              "      <td>yes</td>\n",
              "      <td>8.974618</td>\n",
              "    </tr>\n",
              "    <tr>\n",
              "      <th>2</th>\n",
              "      <td>Mercedes-Benz</td>\n",
              "      <td>sedan</td>\n",
              "      <td>358</td>\n",
              "      <td>5.0</td>\n",
              "      <td>Gas</td>\n",
              "      <td>yes</td>\n",
              "      <td>9.495519</td>\n",
              "    </tr>\n",
              "    <tr>\n",
              "      <th>3</th>\n",
              "      <td>Audi</td>\n",
              "      <td>crossover</td>\n",
              "      <td>240</td>\n",
              "      <td>4.2</td>\n",
              "      <td>Petrol</td>\n",
              "      <td>yes</td>\n",
              "      <td>10.043249</td>\n",
              "    </tr>\n",
              "    <tr>\n",
              "      <th>4</th>\n",
              "      <td>Toyota</td>\n",
              "      <td>crossover</td>\n",
              "      <td>120</td>\n",
              "      <td>2.0</td>\n",
              "      <td>Petrol</td>\n",
              "      <td>yes</td>\n",
              "      <td>9.814656</td>\n",
              "    </tr>\n",
              "  </tbody>\n",
              "</table>\n",
              "</div>"
            ],
            "text/plain": [
              "           Brand       Body  Mileage  ...  Engine Type Registration  log_price\n",
              "0            BMW      sedan      277  ...       Petrol          yes   8.342840\n",
              "1  Mercedes-Benz        van      427  ...       Diesel          yes   8.974618\n",
              "2  Mercedes-Benz      sedan      358  ...          Gas          yes   9.495519\n",
              "3           Audi  crossover      240  ...       Petrol          yes  10.043249\n",
              "4         Toyota  crossover      120  ...       Petrol          yes   9.814656\n",
              "\n",
              "[5 rows x 7 columns]"
            ]
          },
          "metadata": {
            "tags": []
          },
          "execution_count": 33
        }
      ]
    },
    {
      "cell_type": "code",
      "metadata": {
        "id": "v4LnINLI4QQ7"
      },
      "source": [
        "data_with_dummies = pd.get_dummies(data_no_multicolinearity, drop_first = True)"
      ],
      "execution_count": null,
      "outputs": []
    },
    {
      "cell_type": "code",
      "metadata": {
        "colab": {
          "base_uri": "https://localhost:8080/",
          "height": 239
        },
        "id": "qLl0kVYpY594",
        "outputId": "e4fa3e1a-98da-40a1-97c6-e7c2a957eaef"
      },
      "source": [
        "data_with_dummies.head()"
      ],
      "execution_count": null,
      "outputs": [
        {
          "output_type": "execute_result",
          "data": {
            "text/html": [
              "<div>\n",
              "<style scoped>\n",
              "    .dataframe tbody tr th:only-of-type {\n",
              "        vertical-align: middle;\n",
              "    }\n",
              "\n",
              "    .dataframe tbody tr th {\n",
              "        vertical-align: top;\n",
              "    }\n",
              "\n",
              "    .dataframe thead th {\n",
              "        text-align: right;\n",
              "    }\n",
              "</style>\n",
              "<table border=\"1\" class=\"dataframe\">\n",
              "  <thead>\n",
              "    <tr style=\"text-align: right;\">\n",
              "      <th></th>\n",
              "      <th>Mileage</th>\n",
              "      <th>EngineV</th>\n",
              "      <th>log_price</th>\n",
              "      <th>Brand_BMW</th>\n",
              "      <th>Brand_Mercedes-Benz</th>\n",
              "      <th>Brand_Mitsubishi</th>\n",
              "      <th>Brand_Renault</th>\n",
              "      <th>Brand_Toyota</th>\n",
              "      <th>Brand_Volkswagen</th>\n",
              "      <th>Body_hatch</th>\n",
              "      <th>Body_other</th>\n",
              "      <th>Body_sedan</th>\n",
              "      <th>Body_vagon</th>\n",
              "      <th>Body_van</th>\n",
              "      <th>Engine Type_Gas</th>\n",
              "      <th>Engine Type_Other</th>\n",
              "      <th>Engine Type_Petrol</th>\n",
              "      <th>Registration_yes</th>\n",
              "    </tr>\n",
              "  </thead>\n",
              "  <tbody>\n",
              "    <tr>\n",
              "      <th>0</th>\n",
              "      <td>277</td>\n",
              "      <td>2.0</td>\n",
              "      <td>8.342840</td>\n",
              "      <td>1</td>\n",
              "      <td>0</td>\n",
              "      <td>0</td>\n",
              "      <td>0</td>\n",
              "      <td>0</td>\n",
              "      <td>0</td>\n",
              "      <td>0</td>\n",
              "      <td>0</td>\n",
              "      <td>1</td>\n",
              "      <td>0</td>\n",
              "      <td>0</td>\n",
              "      <td>0</td>\n",
              "      <td>0</td>\n",
              "      <td>1</td>\n",
              "      <td>1</td>\n",
              "    </tr>\n",
              "    <tr>\n",
              "      <th>1</th>\n",
              "      <td>427</td>\n",
              "      <td>2.9</td>\n",
              "      <td>8.974618</td>\n",
              "      <td>0</td>\n",
              "      <td>1</td>\n",
              "      <td>0</td>\n",
              "      <td>0</td>\n",
              "      <td>0</td>\n",
              "      <td>0</td>\n",
              "      <td>0</td>\n",
              "      <td>0</td>\n",
              "      <td>0</td>\n",
              "      <td>0</td>\n",
              "      <td>1</td>\n",
              "      <td>0</td>\n",
              "      <td>0</td>\n",
              "      <td>0</td>\n",
              "      <td>1</td>\n",
              "    </tr>\n",
              "    <tr>\n",
              "      <th>2</th>\n",
              "      <td>358</td>\n",
              "      <td>5.0</td>\n",
              "      <td>9.495519</td>\n",
              "      <td>0</td>\n",
              "      <td>1</td>\n",
              "      <td>0</td>\n",
              "      <td>0</td>\n",
              "      <td>0</td>\n",
              "      <td>0</td>\n",
              "      <td>0</td>\n",
              "      <td>0</td>\n",
              "      <td>1</td>\n",
              "      <td>0</td>\n",
              "      <td>0</td>\n",
              "      <td>1</td>\n",
              "      <td>0</td>\n",
              "      <td>0</td>\n",
              "      <td>1</td>\n",
              "    </tr>\n",
              "    <tr>\n",
              "      <th>3</th>\n",
              "      <td>240</td>\n",
              "      <td>4.2</td>\n",
              "      <td>10.043249</td>\n",
              "      <td>0</td>\n",
              "      <td>0</td>\n",
              "      <td>0</td>\n",
              "      <td>0</td>\n",
              "      <td>0</td>\n",
              "      <td>0</td>\n",
              "      <td>0</td>\n",
              "      <td>0</td>\n",
              "      <td>0</td>\n",
              "      <td>0</td>\n",
              "      <td>0</td>\n",
              "      <td>0</td>\n",
              "      <td>0</td>\n",
              "      <td>1</td>\n",
              "      <td>1</td>\n",
              "    </tr>\n",
              "    <tr>\n",
              "      <th>4</th>\n",
              "      <td>120</td>\n",
              "      <td>2.0</td>\n",
              "      <td>9.814656</td>\n",
              "      <td>0</td>\n",
              "      <td>0</td>\n",
              "      <td>0</td>\n",
              "      <td>0</td>\n",
              "      <td>1</td>\n",
              "      <td>0</td>\n",
              "      <td>0</td>\n",
              "      <td>0</td>\n",
              "      <td>0</td>\n",
              "      <td>0</td>\n",
              "      <td>0</td>\n",
              "      <td>0</td>\n",
              "      <td>0</td>\n",
              "      <td>1</td>\n",
              "      <td>1</td>\n",
              "    </tr>\n",
              "  </tbody>\n",
              "</table>\n",
              "</div>"
            ],
            "text/plain": [
              "   Mileage  EngineV  ...  Engine Type_Petrol  Registration_yes\n",
              "0      277      2.0  ...                   1                 1\n",
              "1      427      2.9  ...                   0                 1\n",
              "2      358      5.0  ...                   0                 1\n",
              "3      240      4.2  ...                   1                 1\n",
              "4      120      2.0  ...                   1                 1\n",
              "\n",
              "[5 rows x 18 columns]"
            ]
          },
          "metadata": {
            "tags": []
          },
          "execution_count": 32
        }
      ]
    },
    {
      "cell_type": "code",
      "metadata": {
        "colab": {
          "base_uri": "https://localhost:8080/"
        },
        "id": "tbBWs-qfY8d2",
        "outputId": "061f8618-8d8b-4b2d-814b-9b3493e4f8e2"
      },
      "source": [
        "data_with_dummies.columns.values"
      ],
      "execution_count": null,
      "outputs": [
        {
          "output_type": "execute_result",
          "data": {
            "text/plain": [
              "array(['Mileage', 'EngineV', 'log_price', 'Brand_BMW',\n",
              "       'Brand_Mercedes-Benz', 'Brand_Mitsubishi', 'Brand_Renault',\n",
              "       'Brand_Toyota', 'Brand_Volkswagen', 'Body_hatch', 'Body_other',\n",
              "       'Body_sedan', 'Body_vagon', 'Body_van', 'Engine Type_Gas',\n",
              "       'Engine Type_Other', 'Engine Type_Petrol', 'Registration_yes'],\n",
              "      dtype=object)"
            ]
          },
          "metadata": {
            "tags": []
          },
          "execution_count": 34
        }
      ]
    },
    {
      "cell_type": "code",
      "metadata": {
        "id": "b-7Oz2gHZh2G"
      },
      "source": [
        "cols = ['log_price','Mileage', 'EngineV', 'Brand_BMW',\n",
        "       'Brand_Mercedes-Benz', 'Brand_Mitsubishi', 'Brand_Renault',\n",
        "       'Brand_Toyota', 'Brand_Volkswagen', 'Body_hatch', 'Body_other',\n",
        "       'Body_sedan', 'Body_vagon', 'Body_van', 'Engine Type_Gas',\n",
        "       'Engine Type_Other', 'Engine Type_Petrol', 'Registration_yes']"
      ],
      "execution_count": null,
      "outputs": []
    },
    {
      "cell_type": "code",
      "metadata": {
        "colab": {
          "base_uri": "https://localhost:8080/",
          "height": 239
        },
        "id": "liMG9muKZs6-",
        "outputId": "30eb81a2-2aa3-4b99-95d4-5c0bda6bbcf6"
      },
      "source": [
        "data_preprocessed = data_with_dummies[cols]\n",
        "data_preprocessed.head()"
      ],
      "execution_count": null,
      "outputs": [
        {
          "output_type": "execute_result",
          "data": {
            "text/html": [
              "<div>\n",
              "<style scoped>\n",
              "    .dataframe tbody tr th:only-of-type {\n",
              "        vertical-align: middle;\n",
              "    }\n",
              "\n",
              "    .dataframe tbody tr th {\n",
              "        vertical-align: top;\n",
              "    }\n",
              "\n",
              "    .dataframe thead th {\n",
              "        text-align: right;\n",
              "    }\n",
              "</style>\n",
              "<table border=\"1\" class=\"dataframe\">\n",
              "  <thead>\n",
              "    <tr style=\"text-align: right;\">\n",
              "      <th></th>\n",
              "      <th>log_price</th>\n",
              "      <th>Mileage</th>\n",
              "      <th>EngineV</th>\n",
              "      <th>Brand_BMW</th>\n",
              "      <th>Brand_Mercedes-Benz</th>\n",
              "      <th>Brand_Mitsubishi</th>\n",
              "      <th>Brand_Renault</th>\n",
              "      <th>Brand_Toyota</th>\n",
              "      <th>Brand_Volkswagen</th>\n",
              "      <th>Body_hatch</th>\n",
              "      <th>Body_other</th>\n",
              "      <th>Body_sedan</th>\n",
              "      <th>Body_vagon</th>\n",
              "      <th>Body_van</th>\n",
              "      <th>Engine Type_Gas</th>\n",
              "      <th>Engine Type_Other</th>\n",
              "      <th>Engine Type_Petrol</th>\n",
              "      <th>Registration_yes</th>\n",
              "    </tr>\n",
              "  </thead>\n",
              "  <tbody>\n",
              "    <tr>\n",
              "      <th>0</th>\n",
              "      <td>8.342840</td>\n",
              "      <td>277</td>\n",
              "      <td>2.0</td>\n",
              "      <td>1</td>\n",
              "      <td>0</td>\n",
              "      <td>0</td>\n",
              "      <td>0</td>\n",
              "      <td>0</td>\n",
              "      <td>0</td>\n",
              "      <td>0</td>\n",
              "      <td>0</td>\n",
              "      <td>1</td>\n",
              "      <td>0</td>\n",
              "      <td>0</td>\n",
              "      <td>0</td>\n",
              "      <td>0</td>\n",
              "      <td>1</td>\n",
              "      <td>1</td>\n",
              "    </tr>\n",
              "    <tr>\n",
              "      <th>1</th>\n",
              "      <td>8.974618</td>\n",
              "      <td>427</td>\n",
              "      <td>2.9</td>\n",
              "      <td>0</td>\n",
              "      <td>1</td>\n",
              "      <td>0</td>\n",
              "      <td>0</td>\n",
              "      <td>0</td>\n",
              "      <td>0</td>\n",
              "      <td>0</td>\n",
              "      <td>0</td>\n",
              "      <td>0</td>\n",
              "      <td>0</td>\n",
              "      <td>1</td>\n",
              "      <td>0</td>\n",
              "      <td>0</td>\n",
              "      <td>0</td>\n",
              "      <td>1</td>\n",
              "    </tr>\n",
              "    <tr>\n",
              "      <th>2</th>\n",
              "      <td>9.495519</td>\n",
              "      <td>358</td>\n",
              "      <td>5.0</td>\n",
              "      <td>0</td>\n",
              "      <td>1</td>\n",
              "      <td>0</td>\n",
              "      <td>0</td>\n",
              "      <td>0</td>\n",
              "      <td>0</td>\n",
              "      <td>0</td>\n",
              "      <td>0</td>\n",
              "      <td>1</td>\n",
              "      <td>0</td>\n",
              "      <td>0</td>\n",
              "      <td>1</td>\n",
              "      <td>0</td>\n",
              "      <td>0</td>\n",
              "      <td>1</td>\n",
              "    </tr>\n",
              "    <tr>\n",
              "      <th>3</th>\n",
              "      <td>10.043249</td>\n",
              "      <td>240</td>\n",
              "      <td>4.2</td>\n",
              "      <td>0</td>\n",
              "      <td>0</td>\n",
              "      <td>0</td>\n",
              "      <td>0</td>\n",
              "      <td>0</td>\n",
              "      <td>0</td>\n",
              "      <td>0</td>\n",
              "      <td>0</td>\n",
              "      <td>0</td>\n",
              "      <td>0</td>\n",
              "      <td>0</td>\n",
              "      <td>0</td>\n",
              "      <td>0</td>\n",
              "      <td>1</td>\n",
              "      <td>1</td>\n",
              "    </tr>\n",
              "    <tr>\n",
              "      <th>4</th>\n",
              "      <td>9.814656</td>\n",
              "      <td>120</td>\n",
              "      <td>2.0</td>\n",
              "      <td>0</td>\n",
              "      <td>0</td>\n",
              "      <td>0</td>\n",
              "      <td>0</td>\n",
              "      <td>1</td>\n",
              "      <td>0</td>\n",
              "      <td>0</td>\n",
              "      <td>0</td>\n",
              "      <td>0</td>\n",
              "      <td>0</td>\n",
              "      <td>0</td>\n",
              "      <td>0</td>\n",
              "      <td>0</td>\n",
              "      <td>1</td>\n",
              "      <td>1</td>\n",
              "    </tr>\n",
              "  </tbody>\n",
              "</table>\n",
              "</div>"
            ],
            "text/plain": [
              "   log_price  Mileage  ...  Engine Type_Petrol  Registration_yes\n",
              "0   8.342840      277  ...                   1                 1\n",
              "1   8.974618      427  ...                   0                 1\n",
              "2   9.495519      358  ...                   0                 1\n",
              "3  10.043249      240  ...                   1                 1\n",
              "4   9.814656      120  ...                   1                 1\n",
              "\n",
              "[5 rows x 18 columns]"
            ]
          },
          "metadata": {
            "tags": []
          },
          "execution_count": 36
        }
      ]
    },
    {
      "cell_type": "markdown",
      "metadata": {
        "id": "mk-vg2O6amJF"
      },
      "source": [
        "Regression model"
      ]
    },
    {
      "cell_type": "code",
      "metadata": {
        "id": "4ZVGVrb2Z24l"
      },
      "source": [
        "targets = data_preprocessed['log_price']\n",
        "inputs = data_preprocessed.drop(['log_price'], axis=1)"
      ],
      "execution_count": null,
      "outputs": []
    },
    {
      "cell_type": "markdown",
      "metadata": {
        "id": "qCKvy3y2belw"
      },
      "source": [
        "Scale data"
      ]
    },
    {
      "cell_type": "code",
      "metadata": {
        "colab": {
          "base_uri": "https://localhost:8080/"
        },
        "id": "m7dGiGrEa1wt",
        "outputId": "97c357cd-8758-431a-83fe-f36c250545d4"
      },
      "source": [
        "scaler = StandardScaler()\n",
        "scaler.fit(inputs)"
      ],
      "execution_count": null,
      "outputs": [
        {
          "output_type": "execute_result",
          "data": {
            "text/plain": [
              "StandardScaler(copy=True, with_mean=True, with_std=True)"
            ]
          },
          "metadata": {
            "tags": []
          },
          "execution_count": 40
        }
      ]
    },
    {
      "cell_type": "code",
      "metadata": {
        "id": "Gem6X7j1bRuU"
      },
      "source": [
        "inputs_scaled = scaler.transform(inputs)"
      ],
      "execution_count": null,
      "outputs": []
    },
    {
      "cell_type": "markdown",
      "metadata": {
        "id": "86oTr7j1bgRB"
      },
      "source": [
        "Split data"
      ]
    },
    {
      "cell_type": "code",
      "metadata": {
        "id": "LvwIBZaBbWc1"
      },
      "source": [
        "x_train, x_test, y_train, y_test = train_test_split(inputs_scaled, targets, test_size=0.2, random_state = 365)"
      ],
      "execution_count": null,
      "outputs": []
    },
    {
      "cell_type": "markdown",
      "metadata": {
        "id": "3-tS_de3b4fk"
      },
      "source": [
        "Regression"
      ]
    },
    {
      "cell_type": "code",
      "metadata": {
        "id": "N0NbNiPyb3bM"
      },
      "source": [
        "reg = linear_model.LinearRegression()"
      ],
      "execution_count": null,
      "outputs": []
    },
    {
      "cell_type": "code",
      "metadata": {
        "colab": {
          "base_uri": "https://localhost:8080/"
        },
        "id": "U9CPlBmdb9ts",
        "outputId": "4ab88838-a169-4dbd-ab6d-95ff2d64fb02"
      },
      "source": [
        "reg.fit(x_train, y_train)"
      ],
      "execution_count": null,
      "outputs": [
        {
          "output_type": "execute_result",
          "data": {
            "text/plain": [
              "LinearRegression(copy_X=True, fit_intercept=True, n_jobs=None, normalize=False)"
            ]
          },
          "metadata": {
            "tags": []
          },
          "execution_count": 48
        }
      ]
    },
    {
      "cell_type": "code",
      "metadata": {
        "id": "sm-ySCs-cUxk"
      },
      "source": [
        "y_pred = reg.predict(x_train)"
      ],
      "execution_count": null,
      "outputs": []
    },
    {
      "cell_type": "code",
      "metadata": {
        "colab": {
          "base_uri": "https://localhost:8080/",
          "height": 292
        },
        "id": "gcuRw6Fncc1E",
        "outputId": "9db39616-dc9e-476f-f8b9-9093d937cc25"
      },
      "source": [
        "plt.scatter(y_train, y_pred, alpha=0.2)\n",
        "plt.xlabel('Targets (y_train)', size=18)\n",
        "plt.xlabel('Prediction (y_pred)', size=18)\n",
        "plt.xlim(6, 13)\n",
        "plt.ylim(6, 13)\n",
        "plt.show()"
      ],
      "execution_count": null,
      "outputs": [
        {
          "output_type": "display_data",
          "data": {
            "image/png": "[encoded data removed]",
            "text/plain": [
              "<Figure size 432x288 with 1 Axes>"
            ]
          },
          "metadata": {
            "tags": [],
            "needs_background": "light"
          }
        }
      ]
    },
    {
      "cell_type": "markdown",
      "metadata": {
        "id": "e9CguL_fdKsO"
      },
      "source": [
        "residual plot"
      ]
    },
    {
      "cell_type": "code",
      "metadata": {
        "colab": {
          "base_uri": "https://localhost:8080/",
          "height": 370
        },
        "id": "vj5nqp1Jchis",
        "outputId": "e7ccf233-5a04-48e2-84a3-38f2ffc9288b"
      },
      "source": [
        "sns.distplot(y_train - y_pred)\n",
        "plt.title('Residual Plot', size = 18)"
      ],
      "execution_count": null,
      "outputs": [
        {
          "output_type": "stream",
          "text": [
            "/usr/local/lib/python3.7/dist-packages/seaborn/distributions.py:2557: FutureWarning: `distplot` is a deprecated function and will be removed in a future version. Please adapt your code to use either `displot` (a figure-level function with similar flexibility) or `histplot` (an axes-level function for histograms).\n",
            "  warnings.warn(msg, FutureWarning)\n"
          ],
          "name": "stderr"
        },
        {
          "output_type": "execute_result",
          "data": {
            "text/plain": [
              "Text(0.5, 1.0, 'Residual Plot')"
            ]
          },
          "metadata": {
            "tags": []
          },
          "execution_count": 55
        },
        {
          "output_type": "display_data",
          "data": {
            "image/png": "[encoded data removed]",
            "text/plain": [
              "<Figure size 432x288 with 1 Axes>"
            ]
          },
          "metadata": {
            "tags": [],
            "needs_background": "light"
          }
        }
      ]
    },
    {
      "cell_type": "code",
      "metadata": {
        "id": "-HkCF1OedUWc"
      },
      "source": [
        "r2 = reg.score(x_train, y_train)"
      ],
      "execution_count": null,
      "outputs": []
    },
    {
      "cell_type": "code",
      "metadata": {
        "colab": {
          "base_uri": "https://localhost:8080/"
        },
        "id": "dgWziQl8dr1V",
        "outputId": "a09c3491-c4bb-484e-d23b-d0c0e69b5d8d"
      },
      "source": [
        "reg.intercept_"
      ],
      "execution_count": null,
      "outputs": [
        {
          "output_type": "execute_result",
          "data": {
            "text/plain": [
              "9.415239458021299"
            ]
          },
          "metadata": {
            "tags": []
          },
          "execution_count": 57
        }
      ]
    },
    {
      "cell_type": "code",
      "metadata": {
        "colab": {
          "base_uri": "https://localhost:8080/"
        },
        "id": "vfA-C1TYduyk",
        "outputId": "17e66d80-1364-45b3-af9d-453ef66991d0"
      },
      "source": [
        "reg.coef_"
      ],
      "execution_count": null,
      "outputs": [
        {
          "output_type": "execute_result",
          "data": {
            "text/plain": [
              "array([-0.44871341,  0.20903483,  0.0142496 ,  0.01288174, -0.14055166,\n",
              "       -0.17990912, -0.06054988, -0.08992433, -0.1454692 , -0.10144383,\n",
              "       -0.20062984, -0.12988747, -0.16859669, -0.12149035, -0.03336798,\n",
              "       -0.14690868,  0.32047333])"
            ]
          },
          "metadata": {
            "tags": []
          },
          "execution_count": 58
        }
      ]
    },
    {
      "cell_type": "code",
      "metadata": {
        "colab": {
          "base_uri": "https://localhost:8080/",
          "height": 571
        },
        "id": "cF5mMrihdwHP",
        "outputId": "109cab03-a0f9-4bc8-84eb-19d247cd6722"
      },
      "source": [
        "reg_summary = pd.DataFrame(inputs.columns.values, columns=['Features'])\n",
        "reg_summary['weights'] = reg.coef_\n",
        "reg_summary"
      ],
      "execution_count": null,
      "outputs": [
        {
          "output_type": "execute_result",
          "data": {
            "text/html": [
              "<div>\n",
              "<style scoped>\n",
              "    .dataframe tbody tr th:only-of-type {\n",
              "        vertical-align: middle;\n",
              "    }\n",
              "\n",
              "    .dataframe tbody tr th {\n",
              "        vertical-align: top;\n",
              "    }\n",
              "\n",
              "    .dataframe thead th {\n",
              "        text-align: right;\n",
              "    }\n",
              "</style>\n",
              "<table border=\"1\" class=\"dataframe\">\n",
              "  <thead>\n",
              "    <tr style=\"text-align: right;\">\n",
              "      <th></th>\n",
              "      <th>Features</th>\n",
              "      <th>weights</th>\n",
              "    </tr>\n",
              "  </thead>\n",
              "  <tbody>\n",
              "    <tr>\n",
              "      <th>0</th>\n",
              "      <td>Mileage</td>\n",
              "      <td>-0.448713</td>\n",
              "    </tr>\n",
              "    <tr>\n",
              "      <th>1</th>\n",
              "      <td>EngineV</td>\n",
              "      <td>0.209035</td>\n",
              "    </tr>\n",
              "    <tr>\n",
              "      <th>2</th>\n",
              "      <td>Brand_BMW</td>\n",
              "      <td>0.014250</td>\n",
              "    </tr>\n",
              "    <tr>\n",
              "      <th>3</th>\n",
              "      <td>Brand_Mercedes-Benz</td>\n",
              "      <td>0.012882</td>\n",
              "    </tr>\n",
              "    <tr>\n",
              "      <th>4</th>\n",
              "      <td>Brand_Mitsubishi</td>\n",
              "      <td>-0.140552</td>\n",
              "    </tr>\n",
              "    <tr>\n",
              "      <th>5</th>\n",
              "      <td>Brand_Renault</td>\n",
              "      <td>-0.179909</td>\n",
              "    </tr>\n",
              "    <tr>\n",
              "      <th>6</th>\n",
              "      <td>Brand_Toyota</td>\n",
              "      <td>-0.060550</td>\n",
              "    </tr>\n",
              "    <tr>\n",
              "      <th>7</th>\n",
              "      <td>Brand_Volkswagen</td>\n",
              "      <td>-0.089924</td>\n",
              "    </tr>\n",
              "    <tr>\n",
              "      <th>8</th>\n",
              "      <td>Body_hatch</td>\n",
              "      <td>-0.145469</td>\n",
              "    </tr>\n",
              "    <tr>\n",
              "      <th>9</th>\n",
              "      <td>Body_other</td>\n",
              "      <td>-0.101444</td>\n",
              "    </tr>\n",
              "    <tr>\n",
              "      <th>10</th>\n",
              "      <td>Body_sedan</td>\n",
              "      <td>-0.200630</td>\n",
              "    </tr>\n",
              "    <tr>\n",
              "      <th>11</th>\n",
              "      <td>Body_vagon</td>\n",
              "      <td>-0.129887</td>\n",
              "    </tr>\n",
              "    <tr>\n",
              "      <th>12</th>\n",
              "      <td>Body_van</td>\n",
              "      <td>-0.168597</td>\n",
              "    </tr>\n",
              "    <tr>\n",
              "      <th>13</th>\n",
              "      <td>Engine Type_Gas</td>\n",
              "      <td>-0.121490</td>\n",
              "    </tr>\n",
              "    <tr>\n",
              "      <th>14</th>\n",
              "      <td>Engine Type_Other</td>\n",
              "      <td>-0.033368</td>\n",
              "    </tr>\n",
              "    <tr>\n",
              "      <th>15</th>\n",
              "      <td>Engine Type_Petrol</td>\n",
              "      <td>-0.146909</td>\n",
              "    </tr>\n",
              "    <tr>\n",
              "      <th>16</th>\n",
              "      <td>Registration_yes</td>\n",
              "      <td>0.320473</td>\n",
              "    </tr>\n",
              "  </tbody>\n",
              "</table>\n",
              "</div>"
            ],
            "text/plain": [
              "               Features   weights\n",
              "0               Mileage -0.448713\n",
              "1               EngineV  0.209035\n",
              "2             Brand_BMW  0.014250\n",
              "3   Brand_Mercedes-Benz  0.012882\n",
              "4      Brand_Mitsubishi -0.140552\n",
              "5         Brand_Renault -0.179909\n",
              "6          Brand_Toyota -0.060550\n",
              "7      Brand_Volkswagen -0.089924\n",
              "8            Body_hatch -0.145469\n",
              "9            Body_other -0.101444\n",
              "10           Body_sedan -0.200630\n",
              "11           Body_vagon -0.129887\n",
              "12             Body_van -0.168597\n",
              "13      Engine Type_Gas -0.121490\n",
              "14    Engine Type_Other -0.033368\n",
              "15   Engine Type_Petrol -0.146909\n",
              "16     Registration_yes  0.320473"
            ]
          },
          "metadata": {
            "tags": []
          },
          "execution_count": 59
        }
      ]
    },
    {
      "cell_type": "markdown",
      "metadata": {
        "id": "Qr1h1SwIg_Y8"
      },
      "source": [
        "Testing"
      ]
    },
    {
      "cell_type": "code",
      "metadata": {
        "id": "KaNTiI0vhESD"
      },
      "source": [
        "y_pred_test = reg.predict(x_test)"
      ],
      "execution_count": null,
      "outputs": []
    },
    {
      "cell_type": "code",
      "metadata": {
        "colab": {
          "base_uri": "https://localhost:8080/",
          "height": 292
        },
        "id": "HQIre_ZYg-6k",
        "outputId": "b2d27bdc-0e25-4e9b-9d87-f3cb31a5240c"
      },
      "source": [
        "plt.scatter(y_test, y_pred_test, alpha=0.2)\n",
        "plt.xlabel('Targets (y_train)', size=18)\n",
        "plt.xlabel('Prediction (y_pred)', size=18)\n",
        "plt.xlim(6, 13)\n",
        "plt.ylim(6, 13)\n",
        "plt.show()"
      ],
      "execution_count": null,
      "outputs": [
        {
          "output_type": "display_data",
          "data": {
            "image/png": "[encoded data removed]",
            "text/plain": [
              "<Figure size 432x288 with 1 Axes>"
            ]
          },
          "metadata": {
            "tags": [],
            "needs_background": "light"
          }
        }
      ]
    },
    {
      "cell_type": "code",
      "metadata": {
        "colab": {
          "base_uri": "https://localhost:8080/",
          "height": 202
        },
        "id": "6EZMhL_teO79",
        "outputId": "3a56a1e2-90f7-489b-b096-e6371b2b74e9"
      },
      "source": [
        "#df_pf = dataframe performance\n",
        "df_pf = pd.DataFrame(np.exp(y_pred_test), columns=['Predictions'])\n",
        "df_pf.head()"
      ],
      "execution_count": null,
      "outputs": [
        {
          "output_type": "execute_result",
          "data": {
            "text/html": [
              "<div>\n",
              "<style scoped>\n",
              "    .dataframe tbody tr th:only-of-type {\n",
              "        vertical-align: middle;\n",
              "    }\n",
              "\n",
              "    .dataframe tbody tr th {\n",
              "        vertical-align: top;\n",
              "    }\n",
              "\n",
              "    .dataframe thead th {\n",
              "        text-align: right;\n",
              "    }\n",
              "</style>\n",
              "<table border=\"1\" class=\"dataframe\">\n",
              "  <thead>\n",
              "    <tr style=\"text-align: right;\">\n",
              "      <th></th>\n",
              "      <th>Predictions</th>\n",
              "    </tr>\n",
              "  </thead>\n",
              "  <tbody>\n",
              "    <tr>\n",
              "      <th>0</th>\n",
              "      <td>10685.501696</td>\n",
              "    </tr>\n",
              "    <tr>\n",
              "      <th>1</th>\n",
              "      <td>3499.255242</td>\n",
              "    </tr>\n",
              "    <tr>\n",
              "      <th>2</th>\n",
              "      <td>7553.285218</td>\n",
              "    </tr>\n",
              "    <tr>\n",
              "      <th>3</th>\n",
              "      <td>7463.963017</td>\n",
              "    </tr>\n",
              "    <tr>\n",
              "      <th>4</th>\n",
              "      <td>11353.490075</td>\n",
              "    </tr>\n",
              "  </tbody>\n",
              "</table>\n",
              "</div>"
            ],
            "text/plain": [
              "    Predictions\n",
              "0  10685.501696\n",
              "1   3499.255242\n",
              "2   7553.285218\n",
              "3   7463.963017\n",
              "4  11353.490075"
            ]
          },
          "metadata": {
            "tags": []
          },
          "execution_count": 72
        }
      ]
    },
    {
      "cell_type": "code",
      "metadata": {
        "id": "JmVBS4AUhXGG"
      },
      "source": [
        "y_test = y_test.reset_index(drop=True)"
      ],
      "execution_count": null,
      "outputs": []
    },
    {
      "cell_type": "code",
      "metadata": {
        "id": "3lLeFsgchitg"
      },
      "source": [
        "df_pf['Target'] = np.exp(y_test)"
      ],
      "execution_count": null,
      "outputs": []
    },
    {
      "cell_type": "code",
      "metadata": {
        "colab": {
          "base_uri": "https://localhost:8080/",
          "height": 415
        },
        "id": "lV4muuMwhj6C",
        "outputId": "bbb6eb84-bf93-4e33-b3c2-9e9db8b0d5f6"
      },
      "source": [
        "df_pf"
      ],
      "execution_count": null,
      "outputs": [
        {
          "output_type": "execute_result",
          "data": {
            "text/html": [
              "<div>\n",
              "<style scoped>\n",
              "    .dataframe tbody tr th:only-of-type {\n",
              "        vertical-align: middle;\n",
              "    }\n",
              "\n",
              "    .dataframe tbody tr th {\n",
              "        vertical-align: top;\n",
              "    }\n",
              "\n",
              "    .dataframe thead th {\n",
              "        text-align: right;\n",
              "    }\n",
              "</style>\n",
              "<table border=\"1\" class=\"dataframe\">\n",
              "  <thead>\n",
              "    <tr style=\"text-align: right;\">\n",
              "      <th></th>\n",
              "      <th>Predictions</th>\n",
              "      <th>Target</th>\n",
              "    </tr>\n",
              "  </thead>\n",
              "  <tbody>\n",
              "    <tr>\n",
              "      <th>0</th>\n",
              "      <td>10685.501696</td>\n",
              "      <td>2300.0</td>\n",
              "    </tr>\n",
              "    <tr>\n",
              "      <th>1</th>\n",
              "      <td>3499.255242</td>\n",
              "      <td>2800.0</td>\n",
              "    </tr>\n",
              "    <tr>\n",
              "      <th>2</th>\n",
              "      <td>7553.285218</td>\n",
              "      <td>2500.0</td>\n",
              "    </tr>\n",
              "    <tr>\n",
              "      <th>3</th>\n",
              "      <td>7463.963017</td>\n",
              "      <td>6400.0</td>\n",
              "    </tr>\n",
              "    <tr>\n",
              "      <th>4</th>\n",
              "      <td>11353.490075</td>\n",
              "      <td>9150.0</td>\n",
              "    </tr>\n",
              "    <tr>\n",
              "      <th>...</th>\n",
              "      <td>...</td>\n",
              "      <td>...</td>\n",
              "    </tr>\n",
              "    <tr>\n",
              "      <th>769</th>\n",
              "      <td>29651.726363</td>\n",
              "      <td>29500.0</td>\n",
              "    </tr>\n",
              "    <tr>\n",
              "      <th>770</th>\n",
              "      <td>10732.071179</td>\n",
              "      <td>9600.0</td>\n",
              "    </tr>\n",
              "    <tr>\n",
              "      <th>771</th>\n",
              "      <td>13922.446953</td>\n",
              "      <td>18300.0</td>\n",
              "    </tr>\n",
              "    <tr>\n",
              "      <th>772</th>\n",
              "      <td>27487.751303</td>\n",
              "      <td>68500.0</td>\n",
              "    </tr>\n",
              "    <tr>\n",
              "      <th>773</th>\n",
              "      <td>13491.163043</td>\n",
              "      <td>10800.0</td>\n",
              "    </tr>\n",
              "  </tbody>\n",
              "</table>\n",
              "<p>774 rows × 2 columns</p>\n",
              "</div>"
            ],
            "text/plain": [
              "      Predictions   Target\n",
              "0    10685.501696   2300.0\n",
              "1     3499.255242   2800.0\n",
              "2     7553.285218   2500.0\n",
              "3     7463.963017   6400.0\n",
              "4    11353.490075   9150.0\n",
              "..            ...      ...\n",
              "769  29651.726363  29500.0\n",
              "770  10732.071179   9600.0\n",
              "771  13922.446953  18300.0\n",
              "772  27487.751303  68500.0\n",
              "773  13491.163043  10800.0\n",
              "\n",
              "[774 rows x 2 columns]"
            ]
          },
          "metadata": {
            "tags": []
          },
          "execution_count": 75
        }
      ]
    },
    {
      "cell_type": "code",
      "metadata": {
        "id": "yy4FEZaQhlLz"
      },
      "source": [
        "df_pf['Residual(diff)'] = df_pf['Target'] - df_pf['Predictions']"
      ],
      "execution_count": null,
      "outputs": []
    },
    {
      "cell_type": "code",
      "metadata": {
        "id": "ysZ2BDPzh4n7"
      },
      "source": [
        "df_pf['Percentage'] = np.absolute(df_pf['Residual(diff)']/df_pf['Target'] * 100)"
      ],
      "execution_count": null,
      "outputs": []
    },
    {
      "cell_type": "code",
      "metadata": {
        "colab": {
          "base_uri": "https://localhost:8080/",
          "height": 415
        },
        "id": "wzI41ZCtiTwp",
        "outputId": "be05481b-1978-43e5-c32f-5c27f821c11f"
      },
      "source": [
        "df_pf"
      ],
      "execution_count": null,
      "outputs": [
        {
          "output_type": "execute_result",
          "data": {
            "text/html": [
              "<div>\n",
              "<style scoped>\n",
              "    .dataframe tbody tr th:only-of-type {\n",
              "        vertical-align: middle;\n",
              "    }\n",
              "\n",
              "    .dataframe tbody tr th {\n",
              "        vertical-align: top;\n",
              "    }\n",
              "\n",
              "    .dataframe thead th {\n",
              "        text-align: right;\n",
              "    }\n",
              "</style>\n",
              "<table border=\"1\" class=\"dataframe\">\n",
              "  <thead>\n",
              "    <tr style=\"text-align: right;\">\n",
              "      <th></th>\n",
              "      <th>Predictions</th>\n",
              "      <th>Target</th>\n",
              "      <th>Residual(diff)</th>\n",
              "      <th>Percentage</th>\n",
              "    </tr>\n",
              "  </thead>\n",
              "  <tbody>\n",
              "    <tr>\n",
              "      <th>0</th>\n",
              "      <td>10685.501696</td>\n",
              "      <td>2300.0</td>\n",
              "      <td>-8385.501696</td>\n",
              "      <td>364.587030</td>\n",
              "    </tr>\n",
              "    <tr>\n",
              "      <th>1</th>\n",
              "      <td>3499.255242</td>\n",
              "      <td>2800.0</td>\n",
              "      <td>-699.255242</td>\n",
              "      <td>24.973402</td>\n",
              "    </tr>\n",
              "    <tr>\n",
              "      <th>2</th>\n",
              "      <td>7553.285218</td>\n",
              "      <td>2500.0</td>\n",
              "      <td>-5053.285218</td>\n",
              "      <td>202.131409</td>\n",
              "    </tr>\n",
              "    <tr>\n",
              "      <th>3</th>\n",
              "      <td>7463.963017</td>\n",
              "      <td>6400.0</td>\n",
              "      <td>-1063.963017</td>\n",
              "      <td>16.624422</td>\n",
              "    </tr>\n",
              "    <tr>\n",
              "      <th>4</th>\n",
              "      <td>11353.490075</td>\n",
              "      <td>9150.0</td>\n",
              "      <td>-2203.490075</td>\n",
              "      <td>24.081859</td>\n",
              "    </tr>\n",
              "    <tr>\n",
              "      <th>...</th>\n",
              "      <td>...</td>\n",
              "      <td>...</td>\n",
              "      <td>...</td>\n",
              "      <td>...</td>\n",
              "    </tr>\n",
              "    <tr>\n",
              "      <th>769</th>\n",
              "      <td>29651.726363</td>\n",
              "      <td>29500.0</td>\n",
              "      <td>-151.726363</td>\n",
              "      <td>0.514327</td>\n",
              "    </tr>\n",
              "    <tr>\n",
              "      <th>770</th>\n",
              "      <td>10732.071179</td>\n",
              "      <td>9600.0</td>\n",
              "      <td>-1132.071179</td>\n",
              "      <td>11.792408</td>\n",
              "    </tr>\n",
              "    <tr>\n",
              "      <th>771</th>\n",
              "      <td>13922.446953</td>\n",
              "      <td>18300.0</td>\n",
              "      <td>4377.553047</td>\n",
              "      <td>23.921055</td>\n",
              "    </tr>\n",
              "    <tr>\n",
              "      <th>772</th>\n",
              "      <td>27487.751303</td>\n",
              "      <td>68500.0</td>\n",
              "      <td>41012.248697</td>\n",
              "      <td>59.871896</td>\n",
              "    </tr>\n",
              "    <tr>\n",
              "      <th>773</th>\n",
              "      <td>13491.163043</td>\n",
              "      <td>10800.0</td>\n",
              "      <td>-2691.163043</td>\n",
              "      <td>24.918176</td>\n",
              "    </tr>\n",
              "  </tbody>\n",
              "</table>\n",
              "<p>774 rows × 4 columns</p>\n",
              "</div>"
            ],
            "text/plain": [
              "      Predictions   Target  Residual(diff)  Percentage\n",
              "0    10685.501696   2300.0    -8385.501696  364.587030\n",
              "1     3499.255242   2800.0     -699.255242   24.973402\n",
              "2     7553.285218   2500.0    -5053.285218  202.131409\n",
              "3     7463.963017   6400.0    -1063.963017   16.624422\n",
              "4    11353.490075   9150.0    -2203.490075   24.081859\n",
              "..            ...      ...             ...         ...\n",
              "769  29651.726363  29500.0     -151.726363    0.514327\n",
              "770  10732.071179   9600.0    -1132.071179   11.792408\n",
              "771  13922.446953  18300.0     4377.553047   23.921055\n",
              "772  27487.751303  68500.0    41012.248697   59.871896\n",
              "773  13491.163043  10800.0    -2691.163043   24.918176\n",
              "\n",
              "[774 rows x 4 columns]"
            ]
          },
          "metadata": {
            "tags": []
          },
          "execution_count": 81
        }
      ]
    },
    {
      "cell_type": "code",
      "metadata": {
        "colab": {
          "base_uri": "https://localhost:8080/",
          "height": 294
        },
        "id": "M3O7VozNh5iy",
        "outputId": "8ea66efa-6c46-4b29-b2fe-63a5bc9f9339"
      },
      "source": [
        "df_pf.describe()"
      ],
      "execution_count": null,
      "outputs": [
        {
          "output_type": "execute_result",
          "data": {
            "text/html": [
              "<div>\n",
              "<style scoped>\n",
              "    .dataframe tbody tr th:only-of-type {\n",
              "        vertical-align: middle;\n",
              "    }\n",
              "\n",
              "    .dataframe tbody tr th {\n",
              "        vertical-align: top;\n",
              "    }\n",
              "\n",
              "    .dataframe thead th {\n",
              "        text-align: right;\n",
              "    }\n",
              "</style>\n",
              "<table border=\"1\" class=\"dataframe\">\n",
              "  <thead>\n",
              "    <tr style=\"text-align: right;\">\n",
              "      <th></th>\n",
              "      <th>Predictions</th>\n",
              "      <th>Target</th>\n",
              "      <th>Residual(diff)</th>\n",
              "      <th>Percentage</th>\n",
              "    </tr>\n",
              "  </thead>\n",
              "  <tbody>\n",
              "    <tr>\n",
              "      <th>count</th>\n",
              "      <td>774.000000</td>\n",
              "      <td>774.000000</td>\n",
              "      <td>774.000000</td>\n",
              "      <td>774.000000</td>\n",
              "    </tr>\n",
              "    <tr>\n",
              "      <th>mean</th>\n",
              "      <td>15946.760167</td>\n",
              "      <td>18165.817106</td>\n",
              "      <td>2219.056939</td>\n",
              "      <td>36.256693</td>\n",
              "    </tr>\n",
              "    <tr>\n",
              "      <th>std</th>\n",
              "      <td>13133.197604</td>\n",
              "      <td>19967.858908</td>\n",
              "      <td>10871.218143</td>\n",
              "      <td>55.066507</td>\n",
              "    </tr>\n",
              "    <tr>\n",
              "      <th>min</th>\n",
              "      <td>1320.562768</td>\n",
              "      <td>1200.000000</td>\n",
              "      <td>-29456.498331</td>\n",
              "      <td>0.062794</td>\n",
              "    </tr>\n",
              "    <tr>\n",
              "      <th>25%</th>\n",
              "      <td>7413.644234</td>\n",
              "      <td>6900.000000</td>\n",
              "      <td>-2044.191251</td>\n",
              "      <td>12.108022</td>\n",
              "    </tr>\n",
              "    <tr>\n",
              "      <th>50%</th>\n",
              "      <td>11568.168859</td>\n",
              "      <td>11600.000000</td>\n",
              "      <td>142.518577</td>\n",
              "      <td>23.467728</td>\n",
              "    </tr>\n",
              "    <tr>\n",
              "      <th>75%</th>\n",
              "      <td>20162.408805</td>\n",
              "      <td>20500.000000</td>\n",
              "      <td>3147.343497</td>\n",
              "      <td>39.563570</td>\n",
              "    </tr>\n",
              "    <tr>\n",
              "      <th>max</th>\n",
              "      <td>77403.055224</td>\n",
              "      <td>126000.000000</td>\n",
              "      <td>85106.162329</td>\n",
              "      <td>512.688080</td>\n",
              "    </tr>\n",
              "  </tbody>\n",
              "</table>\n",
              "</div>"
            ],
            "text/plain": [
              "        Predictions         Target  Residual(diff)  Percentage\n",
              "count    774.000000     774.000000      774.000000  774.000000\n",
              "mean   15946.760167   18165.817106     2219.056939   36.256693\n",
              "std    13133.197604   19967.858908    10871.218143   55.066507\n",
              "min     1320.562768    1200.000000   -29456.498331    0.062794\n",
              "25%     7413.644234    6900.000000    -2044.191251   12.108022\n",
              "50%    11568.168859   11600.000000      142.518577   23.467728\n",
              "75%    20162.408805   20500.000000     3147.343497   39.563570\n",
              "max    77403.055224  126000.000000    85106.162329  512.688080"
            ]
          },
          "metadata": {
            "tags": []
          },
          "execution_count": 80
        }
      ]
    },
    {
      "cell_type": "code",
      "metadata": {
        "id": "VBgRIdFBiQw6"
      },
      "source": [
        "pd.options.display.max_rows = 999\n",
        "pd.set_option('display.float_format', lambda x: '%.2f' % x)\n",
        "df_pf.sort_values(by = ['Percentage'])"
      ],
      "execution_count": null,
      "outputs": []
    }
  ]
}